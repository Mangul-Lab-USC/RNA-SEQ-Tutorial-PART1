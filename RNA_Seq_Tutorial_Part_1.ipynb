{
  "nbformat": 4,
  "nbformat_minor": 0,
  "metadata": {
    "colab": {
      "name": "RNA-Seq-Tutorial-Part-1.ipynb",
      "provenance": [],
      "collapsed_sections": [],
      "toc_visible": true
    },
    "kernelspec": {
      "name": "python3",
      "display_name": "Python 3"
    }
  },
  "cells": [
    {
      "cell_type": "markdown",
      "metadata": {
        "id": "y6P_zIWBTvYl",
        "colab_type": "text"
      },
      "source": [
        "Set up Anaconda and Bioconda in Google Colab notebook.\n"
      ]
    },
    {
      "cell_type": "code",
      "metadata": {
        "id": "rzPBN6lNKyzU",
        "colab_type": "code",
        "outputId": "eebf5465-2b9c-434a-dfa9-2da77499f49b",
        "colab": {
          "base_uri": "https://localhost:8080/",
          "height": 1000
        }
      },
      "source": [
        "!wget https://repo.anaconda.com/archive/Anaconda3-2019.10-Linux-x86_64.sh && bash Anaconda3-2019.10-Linux-x86_64.sh -bfp /usr/local\n",
        "!rm -rf sample_data/\n",
        "!rm Anaconda3-2019.10-Linux-x86_64.sh"
      ],
      "execution_count": 0,
      "outputs": [
        {
          "output_type": "stream",
          "text": [
            "--2020-06-01 23:02:05--  https://repo.anaconda.com/archive/Anaconda3-2019.10-Linux-x86_64.sh\n",
            "Resolving repo.anaconda.com (repo.anaconda.com)... 104.16.130.3, 104.16.131.3, 2606:4700::6810:8203, ...\n",
            "Connecting to repo.anaconda.com (repo.anaconda.com)|104.16.130.3|:443... connected.\n",
            "HTTP request sent, awaiting response... 200 OK\n",
            "Length: 530308481 (506M) [application/x-sh]\n",
            "Saving to: ‘Anaconda3-2019.10-Linux-x86_64.sh’\n",
            "\n",
            "Anaconda3-2019.10-L 100%[===================>] 505.74M   140MB/s    in 3.6s    \n",
            "\n",
            "2020-06-01 23:02:09 (139 MB/s) - ‘Anaconda3-2019.10-Linux-x86_64.sh’ saved [530308481/530308481]\n",
            "\n",
            "PREFIX=/usr/local\n",
            "Unpacking payload ...\n",
            "Collecting package metadata (current_repodata.json): - \b\b\\ \b\b| \b\b/ \b\b- \b\b\\ \b\b| \b\b/ \b\b- \b\bdone\n",
            "Solving environment: | \b\b/ \b\b- \b\b\\ \b\b| \b\b/ \b\b- \b\b\\ \b\b| \b\b/ \b\b- \b\b\\ \b\b| \b\b/ \b\b- \b\b\\ \b\b| \b\b/ \b\b- \b\bdone\n",
            "\n",
            "## Package Plan ##\n",
            "\n",
            "  environment location: /usr/local\n",
            "\n",
            "  added / updated specs:\n",
            "    - _ipyw_jlab_nb_ext_conf==0.1.0=py37_0\n",
            "    - _libgcc_mutex==0.1=main\n",
            "    - alabaster==0.7.12=py37_0\n",
            "    - anaconda-client==1.7.2=py37_0\n",
            "    - anaconda-navigator==1.9.7=py37_0\n",
            "    - anaconda-project==0.8.3=py_0\n",
            "    - anaconda==2019.10=py37_0\n",
            "    - asn1crypto==1.0.1=py37_0\n",
            "    - astroid==2.3.1=py37_0\n",
            "    - astropy==3.2.2=py37h7b6447c_0\n",
            "    - atomicwrites==1.3.0=py37_1\n",
            "    - attrs==19.2.0=py_0\n",
            "    - babel==2.7.0=py_0\n",
            "    - backcall==0.1.0=py37_0\n",
            "    - backports.functools_lru_cache==1.5=py_2\n",
            "    - backports.os==0.1.1=py37_0\n",
            "    - backports.shutil_get_terminal_size==1.0.0=py37_2\n",
            "    - backports.tempfile==1.0=py_1\n",
            "    - backports.weakref==1.0.post1=py_1\n",
            "    - backports==1.0=py_2\n",
            "    - beautifulsoup4==4.8.0=py37_0\n",
            "    - bitarray==1.0.1=py37h7b6447c_0\n",
            "    - bkcharts==0.2=py37_0\n",
            "    - blas==1.0=mkl\n",
            "    - bleach==3.1.0=py37_0\n",
            "    - blosc==1.16.3=hd408876_0\n",
            "    - bokeh==1.3.4=py37_0\n",
            "    - boto==2.49.0=py37_0\n",
            "    - bottleneck==1.2.1=py37h035aef0_1\n",
            "    - bzip2==1.0.8=h7b6447c_0\n",
            "    - ca-certificates==2019.8.28=0\n",
            "    - cairo==1.14.12=h8948797_3\n",
            "    - certifi==2019.9.11=py37_0\n",
            "    - cffi==1.12.3=py37h2e261b9_0\n",
            "    - chardet==3.0.4=py37_1003\n",
            "    - click==7.0=py37_0\n",
            "    - cloudpickle==1.2.2=py_0\n",
            "    - clyent==1.2.2=py37_1\n",
            "    - colorama==0.4.1=py37_0\n",
            "    - conda-build==3.18.9=py37_3\n",
            "    - conda-env==2.6.0=1\n",
            "    - conda-package-handling==1.6.0=py37h7b6447c_0\n",
            "    - conda-verify==3.4.2=py_1\n",
            "    - conda==4.7.12=py37_0\n",
            "    - contextlib2==0.6.0=py_0\n",
            "    - cryptography==2.7=py37h1ba5d50_0\n",
            "    - curl==7.65.3=hbc83047_0\n",
            "    - cycler==0.10.0=py37_0\n",
            "    - cython==0.29.13=py37he6710b0_0\n",
            "    - cytoolz==0.10.0=py37h7b6447c_0\n",
            "    - dask-core==2.5.2=py_0\n",
            "    - dask==2.5.2=py_0\n",
            "    - dbus==1.13.6=h746ee38_0\n",
            "    - decorator==4.4.0=py37_1\n",
            "    - defusedxml==0.6.0=py_0\n",
            "    - distributed==2.5.2=py_0\n",
            "    - docutils==0.15.2=py37_0\n",
            "    - entrypoints==0.3=py37_0\n",
            "    - et_xmlfile==1.0.1=py37_0\n",
            "    - expat==2.2.6=he6710b0_0\n",
            "    - fastcache==1.1.0=py37h7b6447c_0\n",
            "    - filelock==3.0.12=py_0\n",
            "    - flask==1.1.1=py_0\n",
            "    - fontconfig==2.13.0=h9420a91_0\n",
            "    - freetype==2.9.1=h8a8886c_1\n",
            "    - fribidi==1.0.5=h7b6447c_0\n",
            "    - fsspec==0.5.2=py_0\n",
            "    - future==0.17.1=py37_0\n",
            "    - get_terminal_size==1.0.0=haa9412d_0\n",
            "    - gevent==1.4.0=py37h7b6447c_0\n",
            "    - glib==2.56.2=hd408876_0\n",
            "    - glob2==0.7=py_0\n",
            "    - gmp==6.1.2=h6c8ec71_1\n",
            "    - gmpy2==2.0.8=py37h10f8cd9_2\n",
            "    - graphite2==1.3.13=h23475e2_0\n",
            "    - greenlet==0.4.15=py37h7b6447c_0\n",
            "    - gst-plugins-base==1.14.0=hbbd80ab_1\n",
            "    - gstreamer==1.14.0=hb453b48_1\n",
            "    - h5py==2.9.0=py37h7918eee_0\n",
            "    - harfbuzz==1.8.8=hffaf4a1_0\n",
            "    - hdf5==1.10.4=hb1b8bf9_0\n",
            "    - heapdict==1.0.1=py_0\n",
            "    - html5lib==1.0.1=py37_0\n",
            "    - icu==58.2=h9c2bf20_1\n",
            "    - idna==2.8=py37_0\n",
            "    - imageio==2.6.0=py37_0\n",
            "    - imagesize==1.1.0=py37_0\n",
            "    - importlib_metadata==0.23=py37_0\n",
            "    - intel-openmp==2019.4=243\n",
            "    - ipykernel==5.1.2=py37h39e3cac_0\n",
            "    - ipython==7.8.0=py37h39e3cac_0\n",
            "    - ipython_genutils==0.2.0=py37_0\n",
            "    - ipywidgets==7.5.1=py_0\n",
            "    - isort==4.3.21=py37_0\n",
            "    - itsdangerous==1.1.0=py37_0\n",
            "    - jbig==2.1=hdba287a_0\n",
            "    - jdcal==1.4.1=py_0\n",
            "    - jedi==0.15.1=py37_0\n",
            "    - jeepney==0.4.1=py_0\n",
            "    - jinja2==2.10.3=py_0\n",
            "    - joblib==0.13.2=py37_0\n",
            "    - jpeg==9b=h024ee3a_2\n",
            "    - json5==0.8.5=py_0\n",
            "    - jsonschema==3.0.2=py37_0\n",
            "    - jupyter==1.0.0=py37_7\n",
            "    - jupyter_client==5.3.3=py37_1\n",
            "    - jupyter_console==6.0.0=py37_0\n",
            "    - jupyter_core==4.5.0=py_0\n",
            "    - jupyterlab==1.1.4=pyhf63ae98_0\n",
            "    - jupyterlab_server==1.0.6=py_0\n",
            "    - keyring==18.0.0=py37_0\n",
            "    - kiwisolver==1.1.0=py37he6710b0_0\n",
            "    - krb5==1.16.1=h173b8e3_7\n",
            "    - lazy-object-proxy==1.4.2=py37h7b6447c_0\n",
            "    - libarchive==3.3.3=h5d8350f_5\n",
            "    - libcurl==7.65.3=h20c2e04_0\n",
            "    - libedit==3.1.20181209=hc058e9b_0\n",
            "    - libffi==3.2.1=hd88cf55_4\n",
            "    - libgcc-ng==9.1.0=hdf63c60_0\n",
            "    - libgfortran-ng==7.3.0=hdf63c60_0\n",
            "    - liblief==0.9.0=h7725739_2\n",
            "    - libpng==1.6.37=hbc83047_0\n",
            "    - libsodium==1.0.16=h1bed415_0\n",
            "    - libssh2==1.8.2=h1ba5d50_0\n",
            "    - libstdcxx-ng==9.1.0=hdf63c60_0\n",
            "    - libtiff==4.0.10=h2733197_2\n",
            "    - libtool==2.4.6=h7b6447c_5\n",
            "    - libuuid==1.0.3=h1bed415_2\n",
            "    - libxcb==1.13=h1bed415_1\n",
            "    - libxml2==2.9.9=hea5a465_1\n",
            "    - libxslt==1.1.33=h7d1a2b0_0\n",
            "    - llvmlite==0.29.0=py37hd408876_0\n",
            "    - locket==0.2.0=py37_1\n",
            "    - lxml==4.4.1=py37hefd8a0e_0\n",
            "    - lz4-c==1.8.1.2=h14c3975_0\n",
            "    - lzo==2.10=h49e0be7_2\n",
            "    - markupsafe==1.1.1=py37h7b6447c_0\n",
            "    - matplotlib==3.1.1=py37h5429711_0\n",
            "    - mccabe==0.6.1=py37_1\n",
            "    - mistune==0.8.4=py37h7b6447c_0\n",
            "    - mkl-service==2.3.0=py37he904b0f_0\n",
            "    - mkl==2019.4=243\n",
            "    - mkl_fft==1.0.14=py37ha843d7b_0\n",
            "    - mkl_random==1.1.0=py37hd6b4f25_0\n",
            "    - mock==3.0.5=py37_0\n",
            "    - more-itertools==7.2.0=py37_0\n",
            "    - mpc==1.1.0=h10f8cd9_1\n",
            "    - mpfr==4.0.1=hdf1c602_3\n",
            "    - mpmath==1.1.0=py37_0\n",
            "    - msgpack-python==0.6.1=py37hfd86e86_1\n",
            "    - multipledispatch==0.6.0=py37_0\n",
            "    - navigator-updater==0.2.1=py37_0\n",
            "    - nbconvert==5.6.0=py37_1\n",
            "    - nbformat==4.4.0=py37_0\n",
            "    - ncurses==6.1=he6710b0_1\n",
            "    - networkx==2.3=py_0\n",
            "    - nltk==3.4.5=py37_0\n",
            "    - nose==1.3.7=py37_2\n",
            "    - notebook==6.0.1=py37_0\n",
            "    - numba==0.45.1=py37h962f231_0\n",
            "    - numexpr==2.7.0=py37h9e4a6bb_0\n",
            "    - numpy-base==1.17.2=py37hde5b4d6_0\n",
            "    - numpy==1.17.2=py37haad9e8e_0\n",
            "    - numpydoc==0.9.1=py_0\n",
            "    - olefile==0.46=py37_0\n",
            "    - openpyxl==3.0.0=py_0\n",
            "    - openssl==1.1.1d=h7b6447c_2\n",
            "    - packaging==19.2=py_0\n",
            "    - pandas==0.25.1=py37he6710b0_0\n",
            "    - pandoc==2.2.3.2=0\n",
            "    - pandocfilters==1.4.2=py37_1\n",
            "    - pango==1.42.4=h049681c_0\n",
            "    - parso==0.5.1=py_0\n",
            "    - partd==1.0.0=py_0\n",
            "    - patchelf==0.9=he6710b0_3\n",
            "    - path.py==12.0.1=py_0\n",
            "    - pathlib2==2.3.5=py37_0\n",
            "    - patsy==0.5.1=py37_0\n",
            "    - pcre==8.43=he6710b0_0\n",
            "    - pep8==1.7.1=py37_0\n",
            "    - pexpect==4.7.0=py37_0\n",
            "    - pickleshare==0.7.5=py37_0\n",
            "    - pillow==6.2.0=py37h34e0f95_0\n",
            "    - pip==19.2.3=py37_0\n",
            "    - pixman==0.38.0=h7b6447c_0\n",
            "    - pkginfo==1.5.0.1=py37_0\n",
            "    - pluggy==0.13.0=py37_0\n",
            "    - ply==3.11=py37_0\n",
            "    - prometheus_client==0.7.1=py_0\n",
            "    - prompt_toolkit==2.0.10=py_0\n",
            "    - psutil==5.6.3=py37h7b6447c_0\n",
            "    - ptyprocess==0.6.0=py37_0\n",
            "    - py-lief==0.9.0=py37h7725739_2\n",
            "    - py==1.8.0=py37_0\n",
            "    - pycodestyle==2.5.0=py37_0\n",
            "    - pycosat==0.6.3=py37h14c3975_0\n",
            "    - pycparser==2.19=py37_0\n",
            "    - pycrypto==2.6.1=py37h14c3975_9\n",
            "    - pycurl==7.43.0.3=py37h1ba5d50_0\n",
            "    - pyflakes==2.1.1=py37_0\n",
            "    - pygments==2.4.2=py_0\n",
            "    - pylint==2.4.2=py37_0\n",
            "    - pyodbc==4.0.27=py37he6710b0_0\n",
            "    - pyopenssl==19.0.0=py37_0\n",
            "    - pyparsing==2.4.2=py_0\n",
            "    - pyqt==5.9.2=py37h05f1152_2\n",
            "    - pyrsistent==0.15.4=py37h7b6447c_0\n",
            "    - pysocks==1.7.1=py37_0\n",
            "    - pytables==3.5.2=py37h71ec239_1\n",
            "    - pytest-arraydiff==0.3=py37h39e3cac_0\n",
            "    - pytest-astropy==0.5.0=py37_0\n",
            "    - pytest-doctestplus==0.4.0=py_0\n",
            "    - pytest-openfiles==0.4.0=py_0\n",
            "    - pytest-remotedata==0.3.2=py37_0\n",
            "    - pytest==5.2.1=py37_0\n",
            "    - python-dateutil==2.8.0=py37_0\n",
            "    - python-libarchive-c==2.8=py37_13\n",
            "    - python==3.7.4=h265db76_1\n",
            "    - pytz==2019.3=py_0\n",
            "    - pywavelets==1.0.3=py37hdd07704_1\n",
            "    - pyyaml==5.1.2=py37h7b6447c_0\n",
            "    - pyzmq==18.1.0=py37he6710b0_0\n",
            "    - qt==5.9.7=h5867ecd_1\n",
            "    - qtawesome==0.6.0=py_0\n",
            "    - qtconsole==4.5.5=py_0\n",
            "    - qtpy==1.9.0=py_0\n",
            "    - readline==7.0=h7b6447c_5\n",
            "    - requests==2.22.0=py37_0\n",
            "    - ripgrep==0.10.0=hc07d326_0\n",
            "    - rope==0.14.0=py_0\n",
            "    - ruamel_yaml==0.15.46=py37h14c3975_0\n",
            "    - scikit-image==0.15.0=py37he6710b0_0\n",
            "    - scikit-learn==0.21.3=py37hd81dba3_0\n",
            "    - scipy==1.3.1=py37h7c811a0_0\n",
            "    - seaborn==0.9.0=py37_0\n",
            "    - secretstorage==3.1.1=py37_0\n",
            "    - send2trash==1.5.0=py37_0\n",
            "    - setuptools==41.4.0=py37_0\n",
            "    - simplegeneric==0.8.1=py37_2\n",
            "    - singledispatch==3.4.0.3=py37_0\n",
            "    - sip==4.19.8=py37hf484d3e_0\n",
            "    - six==1.12.0=py37_0\n",
            "    - snappy==1.1.7=hbae5bb6_3\n",
            "    - snowballstemmer==2.0.0=py_0\n",
            "    - sortedcollections==1.1.2=py37_0\n",
            "    - sortedcontainers==2.1.0=py37_0\n",
            "    - soupsieve==1.9.3=py37_0\n",
            "    - sphinx==2.2.0=py_0\n",
            "    - sphinxcontrib-applehelp==1.0.1=py_0\n",
            "    - sphinxcontrib-devhelp==1.0.1=py_0\n",
            "    - sphinxcontrib-htmlhelp==1.0.2=py_0\n",
            "    - sphinxcontrib-jsmath==1.0.1=py_0\n",
            "    - sphinxcontrib-qthelp==1.0.2=py_0\n",
            "    - sphinxcontrib-serializinghtml==1.1.3=py_0\n",
            "    - sphinxcontrib-websupport==1.1.2=py_0\n",
            "    - sphinxcontrib==1.0=py37_1\n",
            "    - spyder-kernels==0.5.2=py37_0\n",
            "    - spyder==3.3.6=py37_0\n",
            "    - sqlalchemy==1.3.9=py37h7b6447c_0\n",
            "    - sqlite==3.30.0=h7b6447c_0\n",
            "    - statsmodels==0.10.1=py37hdd07704_0\n",
            "    - sympy==1.4=py37_0\n",
            "    - tbb==2019.4=hfd86e86_0\n",
            "    - tblib==1.4.0=py_0\n",
            "    - terminado==0.8.2=py37_0\n",
            "    - testpath==0.4.2=py37_0\n",
            "    - tk==8.6.8=hbc83047_0\n",
            "    - toolz==0.10.0=py_0\n",
            "    - tornado==6.0.3=py37h7b6447c_0\n",
            "    - tqdm==4.36.1=py_0\n",
            "    - traitlets==4.3.3=py37_0\n",
            "    - unicodecsv==0.14.1=py37_0\n",
            "    - unixodbc==2.3.7=h14c3975_0\n",
            "    - urllib3==1.24.2=py37_0\n",
            "    - wcwidth==0.1.7=py37_0\n",
            "    - webencodings==0.5.1=py37_1\n",
            "    - werkzeug==0.16.0=py_0\n",
            "    - wheel==0.33.6=py37_0\n",
            "    - widgetsnbextension==3.5.1=py37_0\n",
            "    - wrapt==1.11.2=py37h7b6447c_0\n",
            "    - wurlitzer==1.0.3=py37_0\n",
            "    - xlrd==1.2.0=py37_0\n",
            "    - xlsxwriter==1.2.1=py_0\n",
            "    - xlwt==1.3.0=py37_0\n",
            "    - xz==5.2.4=h14c3975_4\n",
            "    - yaml==0.1.7=had09818_2\n",
            "    - zeromq==4.3.1=he6710b0_3\n",
            "    - zict==1.0.0=py_0\n",
            "    - zipp==0.6.0=py_0\n",
            "    - zlib==1.2.11=h7b6447c_3\n",
            "    - zstd==1.3.7=h0b5b093_0\n",
            "\n",
            "\n",
            "The following NEW packages will be INSTALLED:\n",
            "\n",
            "  _ipyw_jlab_nb_ext~ pkgs/main/linux-64::_ipyw_jlab_nb_ext_conf-0.1.0-py37_0\n",
            "  _libgcc_mutex      pkgs/main/linux-64::_libgcc_mutex-0.1-main\n",
            "  alabaster          pkgs/main/linux-64::alabaster-0.7.12-py37_0\n",
            "  anaconda           pkgs/main/linux-64::anaconda-2019.10-py37_0\n",
            "  anaconda-client    pkgs/main/linux-64::anaconda-client-1.7.2-py37_0\n",
            "  anaconda-navigator pkgs/main/linux-64::anaconda-navigator-1.9.7-py37_0\n",
            "  anaconda-project   pkgs/main/noarch::anaconda-project-0.8.3-py_0\n",
            "  asn1crypto         pkgs/main/linux-64::asn1crypto-1.0.1-py37_0\n",
            "  astroid            pkgs/main/linux-64::astroid-2.3.1-py37_0\n",
            "  astropy            pkgs/main/linux-64::astropy-3.2.2-py37h7b6447c_0\n",
            "  atomicwrites       pkgs/main/linux-64::atomicwrites-1.3.0-py37_1\n",
            "  attrs              pkgs/main/noarch::attrs-19.2.0-py_0\n",
            "  babel              pkgs/main/noarch::babel-2.7.0-py_0\n",
            "  backcall           pkgs/main/linux-64::backcall-0.1.0-py37_0\n",
            "  backports          pkgs/main/noarch::backports-1.0-py_2\n",
            "  backports.functoo~ pkgs/main/noarch::backports.functools_lru_cache-1.5-py_2\n",
            "  backports.os       pkgs/main/linux-64::backports.os-0.1.1-py37_0\n",
            "  backports.shutil_~ pkgs/main/linux-64::backports.shutil_get_terminal_size-1.0.0-py37_2\n",
            "  backports.tempfile pkgs/main/noarch::backports.tempfile-1.0-py_1\n",
            "  backports.weakref  pkgs/main/noarch::backports.weakref-1.0.post1-py_1\n",
            "  beautifulsoup4     pkgs/main/linux-64::beautifulsoup4-4.8.0-py37_0\n",
            "  bitarray           pkgs/main/linux-64::bitarray-1.0.1-py37h7b6447c_0\n",
            "  bkcharts           pkgs/main/linux-64::bkcharts-0.2-py37_0\n",
            "  blas               pkgs/main/linux-64::blas-1.0-mkl\n",
            "  bleach             pkgs/main/linux-64::bleach-3.1.0-py37_0\n",
            "  blosc              pkgs/main/linux-64::blosc-1.16.3-hd408876_0\n",
            "  bokeh              pkgs/main/linux-64::bokeh-1.3.4-py37_0\n",
            "  boto               pkgs/main/linux-64::boto-2.49.0-py37_0\n",
            "  bottleneck         pkgs/main/linux-64::bottleneck-1.2.1-py37h035aef0_1\n",
            "  bzip2              pkgs/main/linux-64::bzip2-1.0.8-h7b6447c_0\n",
            "  ca-certificates    pkgs/main/linux-64::ca-certificates-2019.8.28-0\n",
            "  cairo              pkgs/main/linux-64::cairo-1.14.12-h8948797_3\n",
            "  certifi            pkgs/main/linux-64::certifi-2019.9.11-py37_0\n",
            "  cffi               pkgs/main/linux-64::cffi-1.12.3-py37h2e261b9_0\n",
            "  chardet            pkgs/main/linux-64::chardet-3.0.4-py37_1003\n",
            "  click              pkgs/main/linux-64::click-7.0-py37_0\n",
            "  cloudpickle        pkgs/main/noarch::cloudpickle-1.2.2-py_0\n",
            "  clyent             pkgs/main/linux-64::clyent-1.2.2-py37_1\n",
            "  colorama           pkgs/main/linux-64::colorama-0.4.1-py37_0\n",
            "  conda              pkgs/main/linux-64::conda-4.7.12-py37_0\n",
            "  conda-build        pkgs/main/linux-64::conda-build-3.18.9-py37_3\n",
            "  conda-env          pkgs/main/linux-64::conda-env-2.6.0-1\n",
            "  conda-package-han~ pkgs/main/linux-64::conda-package-handling-1.6.0-py37h7b6447c_0\n",
            "  conda-verify       pkgs/main/noarch::conda-verify-3.4.2-py_1\n",
            "  contextlib2        pkgs/main/noarch::contextlib2-0.6.0-py_0\n",
            "  cryptography       pkgs/main/linux-64::cryptography-2.7-py37h1ba5d50_0\n",
            "  curl               pkgs/main/linux-64::curl-7.65.3-hbc83047_0\n",
            "  cycler             pkgs/main/linux-64::cycler-0.10.0-py37_0\n",
            "  cython             pkgs/main/linux-64::cython-0.29.13-py37he6710b0_0\n",
            "  cytoolz            pkgs/main/linux-64::cytoolz-0.10.0-py37h7b6447c_0\n",
            "  dask               pkgs/main/noarch::dask-2.5.2-py_0\n",
            "  dask-core          pkgs/main/noarch::dask-core-2.5.2-py_0\n",
            "  dbus               pkgs/main/linux-64::dbus-1.13.6-h746ee38_0\n",
            "  decorator          pkgs/main/linux-64::decorator-4.4.0-py37_1\n",
            "  defusedxml         pkgs/main/noarch::defusedxml-0.6.0-py_0\n",
            "  distributed        pkgs/main/noarch::distributed-2.5.2-py_0\n",
            "  docutils           pkgs/main/linux-64::docutils-0.15.2-py37_0\n",
            "  entrypoints        pkgs/main/linux-64::entrypoints-0.3-py37_0\n",
            "  et_xmlfile         pkgs/main/linux-64::et_xmlfile-1.0.1-py37_0\n",
            "  expat              pkgs/main/linux-64::expat-2.2.6-he6710b0_0\n",
            "  fastcache          pkgs/main/linux-64::fastcache-1.1.0-py37h7b6447c_0\n",
            "  filelock           pkgs/main/noarch::filelock-3.0.12-py_0\n",
            "  flask              pkgs/main/noarch::flask-1.1.1-py_0\n",
            "  fontconfig         pkgs/main/linux-64::fontconfig-2.13.0-h9420a91_0\n",
            "  freetype           pkgs/main/linux-64::freetype-2.9.1-h8a8886c_1\n",
            "  fribidi            pkgs/main/linux-64::fribidi-1.0.5-h7b6447c_0\n",
            "  fsspec             pkgs/main/noarch::fsspec-0.5.2-py_0\n",
            "  future             pkgs/main/linux-64::future-0.17.1-py37_0\n",
            "  get_terminal_size  pkgs/main/linux-64::get_terminal_size-1.0.0-haa9412d_0\n",
            "  gevent             pkgs/main/linux-64::gevent-1.4.0-py37h7b6447c_0\n",
            "  glib               pkgs/main/linux-64::glib-2.56.2-hd408876_0\n",
            "  glob2              pkgs/main/noarch::glob2-0.7-py_0\n",
            "  gmp                pkgs/main/linux-64::gmp-6.1.2-h6c8ec71_1\n",
            "  gmpy2              pkgs/main/linux-64::gmpy2-2.0.8-py37h10f8cd9_2\n",
            "  graphite2          pkgs/main/linux-64::graphite2-1.3.13-h23475e2_0\n",
            "  greenlet           pkgs/main/linux-64::greenlet-0.4.15-py37h7b6447c_0\n",
            "  gst-plugins-base   pkgs/main/linux-64::gst-plugins-base-1.14.0-hbbd80ab_1\n",
            "  gstreamer          pkgs/main/linux-64::gstreamer-1.14.0-hb453b48_1\n",
            "  h5py               pkgs/main/linux-64::h5py-2.9.0-py37h7918eee_0\n",
            "  harfbuzz           pkgs/main/linux-64::harfbuzz-1.8.8-hffaf4a1_0\n",
            "  hdf5               pkgs/main/linux-64::hdf5-1.10.4-hb1b8bf9_0\n",
            "  heapdict           pkgs/main/noarch::heapdict-1.0.1-py_0\n",
            "  html5lib           pkgs/main/linux-64::html5lib-1.0.1-py37_0\n",
            "  icu                pkgs/main/linux-64::icu-58.2-h9c2bf20_1\n",
            "  idna               pkgs/main/linux-64::idna-2.8-py37_0\n",
            "  imageio            pkgs/main/linux-64::imageio-2.6.0-py37_0\n",
            "  imagesize          pkgs/main/linux-64::imagesize-1.1.0-py37_0\n",
            "  importlib_metadata pkgs/main/linux-64::importlib_metadata-0.23-py37_0\n",
            "  intel-openmp       pkgs/main/linux-64::intel-openmp-2019.4-243\n",
            "  ipykernel          pkgs/main/linux-64::ipykernel-5.1.2-py37h39e3cac_0\n",
            "  ipython            pkgs/main/linux-64::ipython-7.8.0-py37h39e3cac_0\n",
            "  ipython_genutils   pkgs/main/linux-64::ipython_genutils-0.2.0-py37_0\n",
            "  ipywidgets         pkgs/main/noarch::ipywidgets-7.5.1-py_0\n",
            "  isort              pkgs/main/linux-64::isort-4.3.21-py37_0\n",
            "  itsdangerous       pkgs/main/linux-64::itsdangerous-1.1.0-py37_0\n",
            "  jbig               pkgs/main/linux-64::jbig-2.1-hdba287a_0\n",
            "  jdcal              pkgs/main/noarch::jdcal-1.4.1-py_0\n",
            "  jedi               pkgs/main/linux-64::jedi-0.15.1-py37_0\n",
            "  jeepney            pkgs/main/noarch::jeepney-0.4.1-py_0\n",
            "  jinja2             pkgs/main/noarch::jinja2-2.10.3-py_0\n",
            "  joblib             pkgs/main/linux-64::joblib-0.13.2-py37_0\n",
            "  jpeg               pkgs/main/linux-64::jpeg-9b-h024ee3a_2\n",
            "  json5              pkgs/main/noarch::json5-0.8.5-py_0\n",
            "  jsonschema         pkgs/main/linux-64::jsonschema-3.0.2-py37_0\n",
            "  jupyter            pkgs/main/linux-64::jupyter-1.0.0-py37_7\n",
            "  jupyter_client     pkgs/main/linux-64::jupyter_client-5.3.3-py37_1\n",
            "  jupyter_console    pkgs/main/linux-64::jupyter_console-6.0.0-py37_0\n",
            "  jupyter_core       pkgs/main/noarch::jupyter_core-4.5.0-py_0\n",
            "  jupyterlab         pkgs/main/noarch::jupyterlab-1.1.4-pyhf63ae98_0\n",
            "  jupyterlab_server  pkgs/main/noarch::jupyterlab_server-1.0.6-py_0\n",
            "  keyring            pkgs/main/linux-64::keyring-18.0.0-py37_0\n",
            "  kiwisolver         pkgs/main/linux-64::kiwisolver-1.1.0-py37he6710b0_0\n",
            "  krb5               pkgs/main/linux-64::krb5-1.16.1-h173b8e3_7\n",
            "  lazy-object-proxy  pkgs/main/linux-64::lazy-object-proxy-1.4.2-py37h7b6447c_0\n",
            "  libarchive         pkgs/main/linux-64::libarchive-3.3.3-h5d8350f_5\n",
            "  libcurl            pkgs/main/linux-64::libcurl-7.65.3-h20c2e04_0\n",
            "  libedit            pkgs/main/linux-64::libedit-3.1.20181209-hc058e9b_0\n",
            "  libffi             pkgs/main/linux-64::libffi-3.2.1-hd88cf55_4\n",
            "  libgcc-ng          pkgs/main/linux-64::libgcc-ng-9.1.0-hdf63c60_0\n",
            "  libgfortran-ng     pkgs/main/linux-64::libgfortran-ng-7.3.0-hdf63c60_0\n",
            "  liblief            pkgs/main/linux-64::liblief-0.9.0-h7725739_2\n",
            "  libpng             pkgs/main/linux-64::libpng-1.6.37-hbc83047_0\n",
            "  libsodium          pkgs/main/linux-64::libsodium-1.0.16-h1bed415_0\n",
            "  libssh2            pkgs/main/linux-64::libssh2-1.8.2-h1ba5d50_0\n",
            "  libstdcxx-ng       pkgs/main/linux-64::libstdcxx-ng-9.1.0-hdf63c60_0\n",
            "  libtiff            pkgs/main/linux-64::libtiff-4.0.10-h2733197_2\n",
            "  libtool            pkgs/main/linux-64::libtool-2.4.6-h7b6447c_5\n",
            "  libuuid            pkgs/main/linux-64::libuuid-1.0.3-h1bed415_2\n",
            "  libxcb             pkgs/main/linux-64::libxcb-1.13-h1bed415_1\n",
            "  libxml2            pkgs/main/linux-64::libxml2-2.9.9-hea5a465_1\n",
            "  libxslt            pkgs/main/linux-64::libxslt-1.1.33-h7d1a2b0_0\n",
            "  llvmlite           pkgs/main/linux-64::llvmlite-0.29.0-py37hd408876_0\n",
            "  locket             pkgs/main/linux-64::locket-0.2.0-py37_1\n",
            "  lxml               pkgs/main/linux-64::lxml-4.4.1-py37hefd8a0e_0\n",
            "  lz4-c              pkgs/main/linux-64::lz4-c-1.8.1.2-h14c3975_0\n",
            "  lzo                pkgs/main/linux-64::lzo-2.10-h49e0be7_2\n",
            "  markupsafe         pkgs/main/linux-64::markupsafe-1.1.1-py37h7b6447c_0\n",
            "  matplotlib         pkgs/main/linux-64::matplotlib-3.1.1-py37h5429711_0\n",
            "  mccabe             pkgs/main/linux-64::mccabe-0.6.1-py37_1\n",
            "  mistune            pkgs/main/linux-64::mistune-0.8.4-py37h7b6447c_0\n",
            "  mkl                pkgs/main/linux-64::mkl-2019.4-243\n",
            "  mkl-service        pkgs/main/linux-64::mkl-service-2.3.0-py37he904b0f_0\n",
            "  mkl_fft            pkgs/main/linux-64::mkl_fft-1.0.14-py37ha843d7b_0\n",
            "  mkl_random         pkgs/main/linux-64::mkl_random-1.1.0-py37hd6b4f25_0\n",
            "  mock               pkgs/main/linux-64::mock-3.0.5-py37_0\n",
            "  more-itertools     pkgs/main/linux-64::more-itertools-7.2.0-py37_0\n",
            "  mpc                pkgs/main/linux-64::mpc-1.1.0-h10f8cd9_1\n",
            "  mpfr               pkgs/main/linux-64::mpfr-4.0.1-hdf1c602_3\n",
            "  mpmath             pkgs/main/linux-64::mpmath-1.1.0-py37_0\n",
            "  msgpack-python     pkgs/main/linux-64::msgpack-python-0.6.1-py37hfd86e86_1\n",
            "  multipledispatch   pkgs/main/linux-64::multipledispatch-0.6.0-py37_0\n",
            "  navigator-updater  pkgs/main/linux-64::navigator-updater-0.2.1-py37_0\n",
            "  nbconvert          pkgs/main/linux-64::nbconvert-5.6.0-py37_1\n",
            "  nbformat           pkgs/main/linux-64::nbformat-4.4.0-py37_0\n",
            "  ncurses            pkgs/main/linux-64::ncurses-6.1-he6710b0_1\n",
            "  networkx           pkgs/main/noarch::networkx-2.3-py_0\n",
            "  nltk               pkgs/main/linux-64::nltk-3.4.5-py37_0\n",
            "  nose               pkgs/main/linux-64::nose-1.3.7-py37_2\n",
            "  notebook           pkgs/main/linux-64::notebook-6.0.1-py37_0\n",
            "  numba              pkgs/main/linux-64::numba-0.45.1-py37h962f231_0\n",
            "  numexpr            pkgs/main/linux-64::numexpr-2.7.0-py37h9e4a6bb_0\n",
            "  numpy              pkgs/main/linux-64::numpy-1.17.2-py37haad9e8e_0\n",
            "  numpy-base         pkgs/main/linux-64::numpy-base-1.17.2-py37hde5b4d6_0\n",
            "  numpydoc           pkgs/main/noarch::numpydoc-0.9.1-py_0\n",
            "  olefile            pkgs/main/linux-64::olefile-0.46-py37_0\n",
            "  openpyxl           pkgs/main/noarch::openpyxl-3.0.0-py_0\n",
            "  openssl            pkgs/main/linux-64::openssl-1.1.1d-h7b6447c_2\n",
            "  packaging          pkgs/main/noarch::packaging-19.2-py_0\n",
            "  pandas             pkgs/main/linux-64::pandas-0.25.1-py37he6710b0_0\n",
            "  pandoc             pkgs/main/linux-64::pandoc-2.2.3.2-0\n",
            "  pandocfilters      pkgs/main/linux-64::pandocfilters-1.4.2-py37_1\n",
            "  pango              pkgs/main/linux-64::pango-1.42.4-h049681c_0\n",
            "  parso              pkgs/main/noarch::parso-0.5.1-py_0\n",
            "  partd              pkgs/main/noarch::partd-1.0.0-py_0\n",
            "  patchelf           pkgs/main/linux-64::patchelf-0.9-he6710b0_3\n",
            "  path.py            pkgs/main/noarch::path.py-12.0.1-py_0\n",
            "  pathlib2           pkgs/main/linux-64::pathlib2-2.3.5-py37_0\n",
            "  patsy              pkgs/main/linux-64::patsy-0.5.1-py37_0\n",
            "  pcre               pkgs/main/linux-64::pcre-8.43-he6710b0_0\n",
            "  pep8               pkgs/main/linux-64::pep8-1.7.1-py37_0\n",
            "  pexpect            pkgs/main/linux-64::pexpect-4.7.0-py37_0\n",
            "  pickleshare        pkgs/main/linux-64::pickleshare-0.7.5-py37_0\n",
            "  pillow             pkgs/main/linux-64::pillow-6.2.0-py37h34e0f95_0\n",
            "  pip                pkgs/main/linux-64::pip-19.2.3-py37_0\n",
            "  pixman             pkgs/main/linux-64::pixman-0.38.0-h7b6447c_0\n",
            "  pkginfo            pkgs/main/linux-64::pkginfo-1.5.0.1-py37_0\n",
            "  pluggy             pkgs/main/linux-64::pluggy-0.13.0-py37_0\n",
            "  ply                pkgs/main/linux-64::ply-3.11-py37_0\n",
            "  prometheus_client  pkgs/main/noarch::prometheus_client-0.7.1-py_0\n",
            "  prompt_toolkit     pkgs/main/noarch::prompt_toolkit-2.0.10-py_0\n",
            "  psutil             pkgs/main/linux-64::psutil-5.6.3-py37h7b6447c_0\n",
            "  ptyprocess         pkgs/main/linux-64::ptyprocess-0.6.0-py37_0\n",
            "  py                 pkgs/main/linux-64::py-1.8.0-py37_0\n",
            "  py-lief            pkgs/main/linux-64::py-lief-0.9.0-py37h7725739_2\n",
            "  pycodestyle        pkgs/main/linux-64::pycodestyle-2.5.0-py37_0\n",
            "  pycosat            pkgs/main/linux-64::pycosat-0.6.3-py37h14c3975_0\n",
            "  pycparser          pkgs/main/linux-64::pycparser-2.19-py37_0\n",
            "  pycrypto           pkgs/main/linux-64::pycrypto-2.6.1-py37h14c3975_9\n",
            "  pycurl             pkgs/main/linux-64::pycurl-7.43.0.3-py37h1ba5d50_0\n",
            "  pyflakes           pkgs/main/linux-64::pyflakes-2.1.1-py37_0\n",
            "  pygments           pkgs/main/noarch::pygments-2.4.2-py_0\n",
            "  pylint             pkgs/main/linux-64::pylint-2.4.2-py37_0\n",
            "  pyodbc             pkgs/main/linux-64::pyodbc-4.0.27-py37he6710b0_0\n",
            "  pyopenssl          pkgs/main/linux-64::pyopenssl-19.0.0-py37_0\n",
            "  pyparsing          pkgs/main/noarch::pyparsing-2.4.2-py_0\n",
            "  pyqt               pkgs/main/linux-64::pyqt-5.9.2-py37h05f1152_2\n",
            "  pyrsistent         pkgs/main/linux-64::pyrsistent-0.15.4-py37h7b6447c_0\n",
            "  pysocks            pkgs/main/linux-64::pysocks-1.7.1-py37_0\n",
            "  pytables           pkgs/main/linux-64::pytables-3.5.2-py37h71ec239_1\n",
            "  pytest             pkgs/main/linux-64::pytest-5.2.1-py37_0\n",
            "  pytest-arraydiff   pkgs/main/linux-64::pytest-arraydiff-0.3-py37h39e3cac_0\n",
            "  pytest-astropy     pkgs/main/linux-64::pytest-astropy-0.5.0-py37_0\n",
            "  pytest-doctestplus pkgs/main/noarch::pytest-doctestplus-0.4.0-py_0\n",
            "  pytest-openfiles   pkgs/main/noarch::pytest-openfiles-0.4.0-py_0\n",
            "  pytest-remotedata  pkgs/main/linux-64::pytest-remotedata-0.3.2-py37_0\n",
            "  python             pkgs/main/linux-64::python-3.7.4-h265db76_1\n",
            "  python-dateutil    pkgs/main/linux-64::python-dateutil-2.8.0-py37_0\n",
            "  python-libarchive~ pkgs/main/linux-64::python-libarchive-c-2.8-py37_13\n",
            "  pytz               pkgs/main/noarch::pytz-2019.3-py_0\n",
            "  pywavelets         pkgs/main/linux-64::pywavelets-1.0.3-py37hdd07704_1\n",
            "  pyyaml             pkgs/main/linux-64::pyyaml-5.1.2-py37h7b6447c_0\n",
            "  pyzmq              pkgs/main/linux-64::pyzmq-18.1.0-py37he6710b0_0\n",
            "  qt                 pkgs/main/linux-64::qt-5.9.7-h5867ecd_1\n",
            "  qtawesome          pkgs/main/noarch::qtawesome-0.6.0-py_0\n",
            "  qtconsole          pkgs/main/noarch::qtconsole-4.5.5-py_0\n",
            "  qtpy               pkgs/main/noarch::qtpy-1.9.0-py_0\n",
            "  readline           pkgs/main/linux-64::readline-7.0-h7b6447c_5\n",
            "  requests           pkgs/main/linux-64::requests-2.22.0-py37_0\n",
            "  ripgrep            pkgs/main/linux-64::ripgrep-0.10.0-hc07d326_0\n",
            "  rope               pkgs/main/noarch::rope-0.14.0-py_0\n",
            "  ruamel_yaml        pkgs/main/linux-64::ruamel_yaml-0.15.46-py37h14c3975_0\n",
            "  scikit-image       pkgs/main/linux-64::scikit-image-0.15.0-py37he6710b0_0\n",
            "  scikit-learn       pkgs/main/linux-64::scikit-learn-0.21.3-py37hd81dba3_0\n",
            "  scipy              pkgs/main/linux-64::scipy-1.3.1-py37h7c811a0_0\n",
            "  seaborn            pkgs/main/linux-64::seaborn-0.9.0-py37_0\n",
            "  secretstorage      pkgs/main/linux-64::secretstorage-3.1.1-py37_0\n",
            "  send2trash         pkgs/main/linux-64::send2trash-1.5.0-py37_0\n",
            "  setuptools         pkgs/main/linux-64::setuptools-41.4.0-py37_0\n",
            "  simplegeneric      pkgs/main/linux-64::simplegeneric-0.8.1-py37_2\n",
            "  singledispatch     pkgs/main/linux-64::singledispatch-3.4.0.3-py37_0\n",
            "  sip                pkgs/main/linux-64::sip-4.19.8-py37hf484d3e_0\n",
            "  six                pkgs/main/linux-64::six-1.12.0-py37_0\n",
            "  snappy             pkgs/main/linux-64::snappy-1.1.7-hbae5bb6_3\n",
            "  snowballstemmer    pkgs/main/noarch::snowballstemmer-2.0.0-py_0\n",
            "  sortedcollections  pkgs/main/linux-64::sortedcollections-1.1.2-py37_0\n",
            "  sortedcontainers   pkgs/main/linux-64::sortedcontainers-2.1.0-py37_0\n",
            "  soupsieve          pkgs/main/linux-64::soupsieve-1.9.3-py37_0\n",
            "  sphinx             pkgs/main/noarch::sphinx-2.2.0-py_0\n",
            "  sphinxcontrib      pkgs/main/linux-64::sphinxcontrib-1.0-py37_1\n",
            "  sphinxcontrib-app~ pkgs/main/noarch::sphinxcontrib-applehelp-1.0.1-py_0\n",
            "  sphinxcontrib-dev~ pkgs/main/noarch::sphinxcontrib-devhelp-1.0.1-py_0\n",
            "  sphinxcontrib-htm~ pkgs/main/noarch::sphinxcontrib-htmlhelp-1.0.2-py_0\n",
            "  sphinxcontrib-jsm~ pkgs/main/noarch::sphinxcontrib-jsmath-1.0.1-py_0\n",
            "  sphinxcontrib-qth~ pkgs/main/noarch::sphinxcontrib-qthelp-1.0.2-py_0\n",
            "  sphinxcontrib-ser~ pkgs/main/noarch::sphinxcontrib-serializinghtml-1.1.3-py_0\n",
            "  sphinxcontrib-web~ pkgs/main/noarch::sphinxcontrib-websupport-1.1.2-py_0\n",
            "  spyder             pkgs/main/linux-64::spyder-3.3.6-py37_0\n",
            "  spyder-kernels     pkgs/main/linux-64::spyder-kernels-0.5.2-py37_0\n",
            "  sqlalchemy         pkgs/main/linux-64::sqlalchemy-1.3.9-py37h7b6447c_0\n",
            "  sqlite             pkgs/main/linux-64::sqlite-3.30.0-h7b6447c_0\n",
            "  statsmodels        pkgs/main/linux-64::statsmodels-0.10.1-py37hdd07704_0\n",
            "  sympy              pkgs/main/linux-64::sympy-1.4-py37_0\n",
            "  tbb                pkgs/main/linux-64::tbb-2019.4-hfd86e86_0\n",
            "  tblib              pkgs/main/noarch::tblib-1.4.0-py_0\n",
            "  terminado          pkgs/main/linux-64::terminado-0.8.2-py37_0\n",
            "  testpath           pkgs/main/linux-64::testpath-0.4.2-py37_0\n",
            "  tk                 pkgs/main/linux-64::tk-8.6.8-hbc83047_0\n",
            "  toolz              pkgs/main/noarch::toolz-0.10.0-py_0\n",
            "  tornado            pkgs/main/linux-64::tornado-6.0.3-py37h7b6447c_0\n",
            "  tqdm               pkgs/main/noarch::tqdm-4.36.1-py_0\n",
            "  traitlets          pkgs/main/linux-64::traitlets-4.3.3-py37_0\n",
            "  unicodecsv         pkgs/main/linux-64::unicodecsv-0.14.1-py37_0\n",
            "  unixodbc           pkgs/main/linux-64::unixodbc-2.3.7-h14c3975_0\n",
            "  urllib3            pkgs/main/linux-64::urllib3-1.24.2-py37_0\n",
            "  wcwidth            pkgs/main/linux-64::wcwidth-0.1.7-py37_0\n",
            "  webencodings       pkgs/main/linux-64::webencodings-0.5.1-py37_1\n",
            "  werkzeug           pkgs/main/noarch::werkzeug-0.16.0-py_0\n",
            "  wheel              pkgs/main/linux-64::wheel-0.33.6-py37_0\n",
            "  widgetsnbextension pkgs/main/linux-64::widgetsnbextension-3.5.1-py37_0\n",
            "  wrapt              pkgs/main/linux-64::wrapt-1.11.2-py37h7b6447c_0\n",
            "  wurlitzer          pkgs/main/linux-64::wurlitzer-1.0.3-py37_0\n",
            "  xlrd               pkgs/main/linux-64::xlrd-1.2.0-py37_0\n",
            "  xlsxwriter         pkgs/main/noarch::xlsxwriter-1.2.1-py_0\n",
            "  xlwt               pkgs/main/linux-64::xlwt-1.3.0-py37_0\n",
            "  xz                 pkgs/main/linux-64::xz-5.2.4-h14c3975_4\n",
            "  yaml               pkgs/main/linux-64::yaml-0.1.7-had09818_2\n",
            "  zeromq             pkgs/main/linux-64::zeromq-4.3.1-he6710b0_3\n",
            "  zict               pkgs/main/noarch::zict-1.0.0-py_0\n",
            "  zipp               pkgs/main/noarch::zipp-0.6.0-py_0\n",
            "  zlib               pkgs/main/linux-64::zlib-1.2.11-h7b6447c_3\n",
            "  zstd               pkgs/main/linux-64::zstd-1.3.7-h0b5b093_0\n",
            "\n",
            "\n",
            "Preparing transaction: | \b\b/ \b\b- \b\b\\ \b\b| \b\b/ \b\b- \b\b\\ \b\b| \b\b/ \b\b- \b\b\\ \b\b| \b\b/ \b\b- \b\b\\ \b\b| \b\b/ \b\b- \b\b\\ \b\b| \b\b/ \b\b- \b\b\\ \b\b| \b\b/ \b\b- \b\b\\ \b\b| \b\b/ \b\b- \b\b\\ \b\bdone\n",
            "Executing transaction: / \b\b- \b\b\\ \b\b| \b\b/ \b\b- \b\b\\ \b\b| \b\b/ \b\b- \b\b\\ \b\b| \b\b/ \b\b- \b\b\\ \b\b| \b\b/ \b\b- \b\b\\ \b\b| \b\b/ \b\b- \b\b\\ \b\b| \b\b/ \b\b- \b\b\\ \b\b| \b\b/ \b\b- \b\b\\ \b\b| \b\b/ \b\b- \b\b\\ \b\b| \b\b/ \b\b- \b\b\\ \b\b| \b\b/ \b\b- \b\b\\ \b\b| \b\b/ \b\b- \b\b\\ \b\b| \b\b/ \b\b- \b\b\\ \b\b| \b\b/ \b\b- \b\b\\ \b\b| \b\b/ \b\b- \b\b\\ \b\b| \b\b/ \b\b- \b\b\\ \b\b| \b\b/ \b\b- \b\b\\ \b\b| \b\b/ \b\b- \b\b\\ \b\b| \b\b/ \b\b- \b\b\\ \b\b| \b\b/ \b\b- \b\b\\ \b\b| \b\b/ \b\b- \b\b\\ \b\b| \b\b/ \b\b- \b\b\\ \b\b| \b\b/ \b\b- \b\b\\ \b\b| \b\b/ \b\b- \b\b\\ \b\b| \b\b/ \b\b- \b\b\\ \b\b| \b\b/ \b\b- \b\b\\ \b\b| \b\b/ \b\b- \b\b\\ \b\b| \b\b/ \b\b- \b\b\\ \b\b| \b\b/ \b\b- \b\b\\ \b\b| \b\b/ \b\b- \b\b\\ \b\b| \b\b/ \b\b- \b\b\\ \b\b| \b\b/ \b\b- \b\b\\ \b\b| \b\b/ \b\b- \b\b\\ \b\b| \b\b/ \b\b- \b\b\\ \b\b| \b\b/ \b\b- \b\b\\ \b\b| \b\b/ \b\b- \b\b\\ \b\b| \b\b/ \b\b- \b\b\\ \b\b| \b\b/ \b\b- \b\b\\ \b\b| \b\b/ \b\b- \b\b\\ \b\b| \b\b/ \b\b- \b\b\\ \b\b| \b\b/ \b\b- \b\b\\ \b\b| \b\b/ \b\b- \b\b\\ \b\b| \b\b/ \b\b- \b\b\\ \b\b| \b\b/ \b\b- \b\b\\ \b\b| \b\b/ \b\b- \b\b\\ \b\b| \b\b/ \b\b- \b\b\\ \b\b| \b\b/ \b\b- \b\b\\ \b\b| \b\b/ \b\b- \b\b\\ \b\b| \b\b/ \b\b- \b\b\\ \b\b| \b\b/ \b\b- \b\b\\ \b\b| \b\b/ \b\b- \b\b\\ \b\b| \b\b/ \b\b- \b\b\\ \b\b| \b\b/ \b\b- \b\b\\ \b\b| \b\b/ \b\b- \b\b\\ \b\b| \b\b/ \b\b- \b\b\\ \b\b| \b\b/ \b\b- \b\b\\ \b\b| \b\b/ \b\b- \b\b\\ \b\b| \b\b/ \b\b- \b\b\\ \b\b| \b\b/ \b\b- \b\b\\ \b\b| \b\b/ \b\b- \b\b\\ \b\b| \b\b/ \b\b- \b\b\\ \b\b| \b\b/ \b\b- \b\b\\ \b\b| \b\b/ \b\b- \b\b\\ \b\b| \b\b/ \b\b- \b\b\\ \b\b| \b\b/ \b\b- \b\b\\ \b\b| \b\b/ \b\b- \b\b\\ \b\b| \b\b/ \b\b- \b\b\\ \b\b| \b\b/ \b\b- \b\b\\ \b\b| \b\b/ \b\b- \b\b\\ \b\b| \b\b/ \b\b- \b\b\\ \b\b| \b\b/ \b\b- \b\b\\ \b\b| \b\b/ \b\b- \b\b\\ \b\b| \b\b/ \b\b- \b\b\\ \b\b| \b\b/ \b\b- \b\b\\ \b\b| \b\b/ \b\b- \b\b\\ \b\b| \b\b/ \b\b- \b\b\\ \b\b| \b\b/ \b\b- \b\b\\ \b\b| \b\b/ \b\b- \b\b\\ \b\b| \b\b/ \b\b- \b\b\\ \b\b| \b\b/ \b\b- \b\b\\ \b\b| \b\b/ \b\b- \b\b\\ \b\b| \b\b/ \b\b- \b\b\\ \b\b| \b\b/ \b\b- \b\b\\ \b\b| \b\b/ \b\b- \b\b\\ \b\b| \b\b/ \b\b- \b\b\\ \b\b| \b\b/ \b\b- \b\b\\ \b\b| \b\b/ \b\b- \b\b\\ \b\b| \b\b/ \b\b- \b\b\\ \b\b| \b\b/ \b\b- \b\b\\ \b\b| \b\b/ \b\b- \b\b\\ \b\b| \b\b/ \b\b- \b\b\\ \b\b| \b\b/ \b\b- \b\b\\ \b\b| \b\b/ \b\b- \b\b\\ \b\b| \b\b/ \b\b- \b\b\\ \b\b| \b\b/ \b\b- \b\b\\ \b\b| \b\b/ \b\b- \b\b\\ \b\b| \b\b/ \b\b- \b\b\\ \b\b| \b\b/ \b\b- \b\b\\ \b\b| \b\b/ \b\b- \b\b\\ \b\b| \b\b/ \b\b- \b\b\\ \b\b| \b\b/ \b\b- \b\b\\ \b\b| \b\b/ \b\b- \b\b\\ \b\b| \b\b/ \b\b- \b\b\\ \b\b| \b\b/ \b\b- \b\b\\ \b\b| \b\b/ \b\b- \b\bdone\n",
            "installation finished.\n",
            "WARNING:\n",
            "    You currently have a PYTHONPATH environment variable set. This may cause\n",
            "    unexpected behavior when running the Python interpreter in Anaconda3.\n",
            "    For best results, please verify that your PYTHONPATH only points to\n",
            "    directories of packages that are compatible with the Python interpreter\n",
            "    in Anaconda3: /usr/local\n"
          ],
          "name": "stdout"
        }
      ]
    },
    {
      "cell_type": "markdown",
      "metadata": {
        "colab_type": "text",
        "id": "-wyyHNHi08s2"
      },
      "source": [
        "Attach packages to python environment"
      ]
    },
    {
      "cell_type": "code",
      "metadata": {
        "id": "P_WZ5ohTLsrh",
        "colab_type": "code",
        "colab": {}
      },
      "source": [
        "import sys\n",
        "sys.path.append('/usr/local/lib/python3.7/site-packages')\n",
        "sys.path.append('/usr/local/lib/R/bin')"
      ],
      "execution_count": 0,
      "outputs": []
    },
    {
      "cell_type": "markdown",
      "metadata": {
        "id": "lczUdbDdUEBU",
        "colab_type": "text"
      },
      "source": [
        "Set Up and Activate Bioconda Channels"
      ]
    },
    {
      "cell_type": "code",
      "metadata": {
        "id": "hm3Xkjb-NVZJ",
        "colab_type": "code",
        "outputId": "fc0e6be4-78fb-4391-a6c4-be31a5c5129e",
        "colab": {
          "base_uri": "https://localhost:8080/",
          "height": 34
        }
      },
      "source": [
        "!conda config --add channels defaults\n",
        "!conda config --add channels bioconda\n",
        "!conda config --add channels conda-forge"
      ],
      "execution_count": 0,
      "outputs": [
        {
          "output_type": "stream",
          "text": [
            "Warning: 'defaults' already in 'channels' list, moving to the top\n"
          ],
          "name": "stdout"
        }
      ]
    },
    {
      "cell_type": "markdown",
      "metadata": {
        "id": "f9xDj5Zm4l8l",
        "colab_type": "text"
      },
      "source": [
        "Install gcc compiler for read simulator (wgsim)."
      ]
    },
    {
      "cell_type": "code",
      "metadata": {
        "id": "6RHS6ek84mkx",
        "colab_type": "code",
        "outputId": "90d43d14-871e-47a0-9253-841205a7269e",
        "colab": {
          "base_uri": "https://localhost:8080/",
          "height": 1000
        }
      },
      "source": [
        "!conda install -c conda-forge gcc_linux-64"
      ],
      "execution_count": 0,
      "outputs": [
        {
          "output_type": "stream",
          "text": [
            "Collecting package metadata (current_repodata.json): - \b\b\\ \b\b| \b\b/ \b\b- \b\b\\ \b\b| \b\b/ \b\b- \b\b\\ \b\b| \b\b/ \b\b- \b\b\\ \b\b| \b\b/ \b\b- \b\b\\ \b\b| \b\b/ \b\b- \b\b\\ \b\b| \b\b/ \b\b- \b\b\\ \b\b| \b\b/ \b\b- \b\b\\ \b\b| \b\b/ \b\b- \b\b\\ \b\b| \b\b/ \b\b- \b\b\\ \b\b| \b\b/ \b\b- \b\b\\ \b\b| \b\b/ \b\b- \b\b\\ \b\b| \b\b/ \b\b- \b\b\\ \b\b| \b\b/ \b\b- \b\b\\ \b\b| \b\b/ \b\b- \b\b\\ \b\b| \b\b/ \b\b- \b\b\\ \b\b| \b\b/ \b\b- \b\b\\ \b\b| \b\b/ \b\b- \b\b\\ \b\b| \b\b/ \b\b- \b\b\\ \b\b| \b\b/ \b\b- \b\b\\ \b\b| \b\b/ \b\b- \b\b\\ \b\b| \b\b/ \b\b- \b\b\\ \b\b| \b\b/ \b\b- \b\b\\ \b\b| \b\b/ \b\b- \b\b\\ \b\b| \b\b/ \b\b- \b\b\\ \b\b| \b\bdone\n",
            "Solving environment: - \b\b\\ \b\b| \b\b/ \b\b- \b\b\\ \b\b| \b\b/ \b\b- \b\b\\ \b\b| \b\b/ \b\b- \b\b\\ \b\b| \b\b/ \b\b- \b\b\\ \b\b| \b\b/ \b\b- \b\b\\ \b\b| \b\b/ \b\b- \b\b\\ \b\b| \b\b/ \b\b- \b\b\\ \b\b| \b\b/ \b\b- \b\b\\ \b\b| \b\b/ \b\bdone\n",
            "\n",
            "\n",
            "==> WARNING: A newer version of conda exists. <==\n",
            "  current version: 4.7.12\n",
            "  latest version: 4.8.3\n",
            "\n",
            "Please update conda by running\n",
            "\n",
            "    $ conda update -n base -c defaults conda\n",
            "\n",
            "\n",
            "\n",
            "## Package Plan ##\n",
            "\n",
            "  environment location: /usr/local\n",
            "\n",
            "  added / updated specs:\n",
            "    - gcc_linux-64\n",
            "\n",
            "\n",
            "The following packages will be downloaded:\n",
            "\n",
            "    package                    |            build\n",
            "    ---------------------------|-----------------\n",
            "    binutils_impl_linux-64-2.31.1|       h6176602_1         3.9 MB\n",
            "    binutils_linux-64-2.31.1   |       h6176602_9          26 KB\n",
            "    conda-4.8.3                |   py37hc8dfbb8_1         3.0 MB  conda-forge\n",
            "    gcc_impl_linux-64-7.3.0    |       habb00fd_1        41.9 MB\n",
            "    gcc_linux-64-7.3.0         |       h553295d_9          27 KB\n",
            "    python_abi-3.7             |          1_cp37m           4 KB  conda-forge\n",
            "    ------------------------------------------------------------\n",
            "                                           Total:        48.9 MB\n",
            "\n",
            "The following NEW packages will be INSTALLED:\n",
            "\n",
            "  binutils_impl_lin~ pkgs/main/linux-64::binutils_impl_linux-64-2.31.1-h6176602_1\n",
            "  binutils_linux-64  pkgs/main/linux-64::binutils_linux-64-2.31.1-h6176602_9\n",
            "  gcc_impl_linux-64  pkgs/main/linux-64::gcc_impl_linux-64-7.3.0-habb00fd_1\n",
            "  gcc_linux-64       pkgs/main/linux-64::gcc_linux-64-7.3.0-h553295d_9\n",
            "  python_abi         conda-forge/linux-64::python_abi-3.7-1_cp37m\n",
            "\n",
            "The following packages will be UPDATED:\n",
            "\n",
            "  conda                      pkgs/main::conda-4.7.12-py37_0 --> conda-forge::conda-4.8.3-py37hc8dfbb8_1\n",
            "\n",
            "\n",
            "Proceed ([y]/n)? y\n",
            "\n",
            "\n",
            "Downloading and Extracting Packages\n",
            "binutils_impl_linux- | 3.9 MB    | : 100% 1.0/1 [00:00<00:00,  2.64it/s]               \n",
            "conda-4.8.3          | 3.0 MB    | : 100% 1.0/1 [00:00<00:00,  1.57it/s]\n",
            "binutils_linux-64-2. | 26 KB     | : 100% 1.0/1 [00:00<00:00, 20.60it/s]\n",
            "gcc_impl_linux-64-7. | 41.9 MB   | : 100% 1.0/1 [00:01<00:00,  1.79s/it]               \n",
            "gcc_linux-64-7.3.0   | 27 KB     | : 100% 1.0/1 [00:00<00:00, 15.94it/s]\n",
            "python_abi-3.7       | 4 KB      | : 100% 1.0/1 [00:00<00:00, 36.09it/s]\n",
            "Preparing transaction: \\ \b\b| \b\bdone\n",
            "Verifying transaction: - \b\b\\ \b\b| \b\b/ \b\bdone\n",
            "Executing transaction: \\ \b\b| \b\b/ \b\b- \b\bdone\n"
          ],
          "name": "stdout"
        }
      ]
    },
    {
      "cell_type": "markdown",
      "metadata": {
        "id": "6qKcsZrANHcW",
        "colab_type": "text"
      },
      "source": [
        "Download read simulator from github: wgsim"
      ]
    },
    {
      "cell_type": "code",
      "metadata": {
        "id": "2ZKzZCqTMwP5",
        "colab_type": "code",
        "outputId": "7d389066-9c1e-4eed-db10-d0423e2d2e65",
        "colab": {
          "base_uri": "https://localhost:8080/",
          "height": 87
        }
      },
      "source": [
        "!git clone https://github.com/lh3/wgsim.git"
      ],
      "execution_count": 0,
      "outputs": [
        {
          "output_type": "stream",
          "text": [
            "Cloning into 'wgsim'...\n",
            "remote: Enumerating objects: 43, done.\u001b[K\n",
            "remote: Total 43 (delta 0), reused 0 (delta 0), pack-reused 43\u001b[K\n",
            "Unpacking objects: 100% (43/43), done.\n"
          ],
          "name": "stdout"
        }
      ]
    },
    {
      "cell_type": "markdown",
      "metadata": {
        "id": "tDrR26WeOYf7",
        "colab_type": "text"
      },
      "source": [
        "Install the read simulator with gcc"
      ]
    },
    {
      "cell_type": "code",
      "metadata": {
        "id": "sLbqIa6SNRYx",
        "colab_type": "code",
        "colab": {}
      },
      "source": [
        "!cd wgsim/ && gcc -g -O2 -Wall -o wgsim wgsim.c -lz -lm"
      ],
      "execution_count": 0,
      "outputs": []
    },
    {
      "cell_type": "markdown",
      "metadata": {
        "id": "5CqWyfuvUJvw",
        "colab_type": "text"
      },
      "source": [
        "Install bowtie2, samtools htseq, salmon, deseq2 with conda"
      ]
    },
    {
      "cell_type": "code",
      "metadata": {
        "id": "UaKZvsvQs6T8",
        "colab_type": "code",
        "outputId": "50252f00-6b8e-4f43-e245-3050dadc2072",
        "colab": {
          "base_uri": "https://localhost:8080/",
          "height": 585
        }
      },
      "source": [
        "!conda install bowtie2\n",
        "# !conda install hisat2"
      ],
      "execution_count": 0,
      "outputs": [
        {
          "output_type": "stream",
          "text": [
            "Collecting package metadata (current_repodata.json): - \b\b\\ \b\b| \b\b/ \b\b- \b\b\\ \b\b| \b\b/ \b\b- \b\b\\ \b\b| \b\b/ \b\b- \b\b\\ \b\b| \b\b/ \b\b- \b\b\\ \b\b| \b\b/ \b\b- \b\b\\ \b\b| \b\b/ \b\b- \b\b\\ \b\b| \b\b/ \b\b- \b\b\\ \b\b| \b\b/ \b\b- \b\b\\ \b\bdone\n",
            "Solving environment: / \b\b- \b\b\\ \b\b| \b\b/ \b\b- \b\b\\ \b\b| \b\b/ \b\b- \b\b\\ \b\b| \b\b/ \b\b- \b\b\\ \b\b| \b\b/ \b\b- \b\b\\ \b\b| \b\b/ \b\b- \b\b\\ \b\b| \b\b/ \b\b- \b\b\\ \b\b| \b\b/ \b\b- \b\b\\ \b\b| \b\b/ \b\b- \b\b\\ \b\b| \b\bdone\n",
            "\n",
            "## Package Plan ##\n",
            "\n",
            "  environment location: /usr/local\n",
            "\n",
            "  added / updated specs:\n",
            "    - bowtie2\n",
            "\n",
            "\n",
            "The following packages will be downloaded:\n",
            "\n",
            "    package                    |            build\n",
            "    ---------------------------|-----------------\n",
            "    bowtie2-2.2.5              |   py37h99015e2_6        11.7 MB  bioconda\n",
            "    ------------------------------------------------------------\n",
            "                                           Total:        11.7 MB\n",
            "\n",
            "The following NEW packages will be INSTALLED:\n",
            "\n",
            "  bowtie2            bioconda/linux-64::bowtie2-2.2.5-py37h99015e2_6\n",
            "\n",
            "\n",
            "Proceed ([y]/n)? y\n",
            "\n",
            "\n",
            "Downloading and Extracting Packages\n",
            "bowtie2-2.2.5        | 11.7 MB   | : 100% 1.0/1 [00:01<00:00,  1.02it/s]                \n",
            "Preparing transaction: - \b\bdone\n",
            "Verifying transaction: | \b\bdone\n",
            "Executing transaction: - \b\bdone\n"
          ],
          "name": "stdout"
        }
      ]
    },
    {
      "cell_type": "code",
      "metadata": {
        "id": "npaiIAEsSbYS",
        "colab_type": "code",
        "outputId": "f41dc5f9-c787-495e-9655-b71e054af9db",
        "colab": {
          "base_uri": "https://localhost:8080/",
          "height": 692
        }
      },
      "source": [
        "!conda install samtools"
      ],
      "execution_count": 0,
      "outputs": [
        {
          "output_type": "stream",
          "text": [
            "Collecting package metadata (current_repodata.json): - \b\b\\ \b\b| \b\b/ \b\b- \b\b\\ \b\b| \b\b/ \b\b- \b\b\\ \b\b| \b\b/ \b\b- \b\b\\ \b\b| \b\b/ \b\b- \b\b\\ \b\b| \b\b/ \b\b- \b\b\\ \b\b| \b\b/ \b\b- \b\b\\ \b\b| \b\b/ \b\b- \b\b\\ \b\b| \b\b/ \b\bdone\n",
            "Solving environment: \\ \b\b| \b\b/ \b\b- \b\b\\ \b\b| \b\b/ \b\b- \b\b\\ \b\b| \b\b/ \b\b- \b\b\\ \b\b| \b\b/ \b\b- \b\b\\ \b\b| \b\b/ \b\b- \b\b\\ \b\b| \b\b/ \b\b- \b\b\\ \b\b| \b\b/ \b\b- \b\b\\ \b\b| \b\b/ \b\b- \b\b\\ \b\b| \b\b/ \b\b- \b\b\\ \b\b| \b\b/ \b\b- \b\b\\ \b\b| \b\b/ \b\b- \b\b\\ \b\b| \b\b/ \b\b- \b\b\\ \b\b| \b\b/ \b\b- \b\b\\ \b\b| \b\b/ \b\b- \b\b\\ \b\b| \b\b/ \b\b- \b\b\\ \b\b| \b\b/ \b\b- \b\bdone\n",
            "\n",
            "## Package Plan ##\n",
            "\n",
            "  environment location: /usr/local\n",
            "\n",
            "  added / updated specs:\n",
            "    - samtools\n",
            "\n",
            "\n",
            "The following packages will be downloaded:\n",
            "\n",
            "    package                    |            build\n",
            "    ---------------------------|-----------------\n",
            "    htslib-1.9                 |       h4da6232_3         1.2 MB  bioconda\n",
            "    libdeflate-1.6             |       h516909a_0          60 KB  conda-forge\n",
            "    samtools-1.9               |      h10a08f8_12         299 KB  bioconda\n",
            "    ------------------------------------------------------------\n",
            "                                           Total:         1.5 MB\n",
            "\n",
            "The following NEW packages will be INSTALLED:\n",
            "\n",
            "  htslib             bioconda/linux-64::htslib-1.9-h4da6232_3\n",
            "  libdeflate         conda-forge/linux-64::libdeflate-1.6-h516909a_0\n",
            "  samtools           bioconda/linux-64::samtools-1.9-h10a08f8_12\n",
            "\n",
            "\n",
            "Proceed ([y]/n)? y\n",
            "\n",
            "\n",
            "Downloading and Extracting Packages\n",
            "libdeflate-1.6       | 60 KB     | : 100% 1.0/1 [00:00<00:00,  2.40it/s]               \n",
            "htslib-1.9           | 1.2 MB    | : 100% 1.0/1 [00:00<00:00,  4.37it/s]\n",
            "samtools-1.9         | 299 KB    | : 100% 1.0/1 [00:00<00:00, 12.40it/s]\n",
            "Preparing transaction: | \b\bdone\n",
            "Verifying transaction: - \b\bdone\n",
            "Executing transaction: | \b\bdone\n"
          ],
          "name": "stdout"
        }
      ]
    },
    {
      "cell_type": "code",
      "metadata": {
        "id": "lJxVmRLINrPr",
        "colab_type": "code",
        "outputId": "666c5977-e546-43bc-97ce-7d97fd8193fd",
        "colab": {
          "base_uri": "https://localhost:8080/",
          "height": 798
        }
      },
      "source": [
        "!conda install htseq"
      ],
      "execution_count": 0,
      "outputs": [
        {
          "output_type": "stream",
          "text": [
            "Collecting package metadata (current_repodata.json): - \b\b\\ \b\b| \b\b/ \b\b- \b\b\\ \b\b| \b\b/ \b\b- \b\b\\ \b\b| \b\b/ \b\b- \b\b\\ \b\b| \b\b/ \b\b- \b\b\\ \b\b| \b\b/ \b\b- \b\b\\ \b\b| \b\b/ \b\b- \b\b\\ \b\b| \b\b/ \b\b- \b\b\\ \b\b| \b\b/ \b\b- \b\bdone\n",
            "Solving environment: | \b\b/ \b\b- \b\b\\ \b\b| \b\b/ \b\b- \b\b\\ \b\b| \b\b/ \b\b- \b\b\\ \b\b| \b\b/ \b\b- \b\b\\ \b\b| \b\b/ \b\b- \b\b\\ \b\b| \b\b/ \b\b- \b\b\\ \b\b| \b\b/ \b\b- \b\b\\ \b\b| \b\b/ \b\b- \b\b\\ \b\b| \b\b/ \b\b- \b\b\\ \b\b| \b\b/ \b\b- \b\b\\ \b\b| \b\b/ \b\b- \b\b\\ \b\b| \b\b/ \b\b- \b\b\\ \b\b| \b\b/ \b\b- \b\b\\ \b\b| \b\b/ \b\b- \b\b\\ \b\b| \b\b/ \b\b- \b\b\\ \b\b| \b\b/ \b\b- \b\b\\ \b\b| \b\b/ \b\b- \b\b\\ \b\b| \b\b/ \b\b- \b\b\\ \b\b| \b\b/ \b\b- \b\b\\ \b\b| \b\b/ \b\b- \b\b\\ \b\b| \b\b/ \b\b- \b\b\\ \b\b| \b\b/ \b\b- \b\b\\ \b\b| \b\b/ \b\b- \b\b\\ \b\b| \b\b/ \b\b- \b\b\\ \b\b| \b\b/ \b\b- \b\b\\ \b\b| \b\b/ \b\b- \b\b\\ \b\b| \b\b/ \b\b- \b\b\\ \b\b| \b\b/ \b\b- \b\b\\ \b\b| \b\b/ \b\b- \b\b\\ \b\b| \b\b/ \b\b- \b\b\\ \b\b| \b\b/ \b\b- \b\b\\ \b\b| \b\b/ \b\b- \b\b\\ \b\b| \b\b/ \b\b- \b\b\\ \b\b| \b\b/ \b\b- \b\b\\ \b\b| \b\b/ \b\b- \b\b\\ \b\b| \b\b/ \b\b- \b\b\\ \b\b| \b\b/ \b\b- \b\b\\ \b\b| \b\b/ \b\b- \b\b\\ \b\b| \b\b/ \b\b- \b\b\\ \b\b| \b\b/ \b\b- \b\b\\ \b\b| \b\b/ \b\b- \b\b\\ \b\b| \b\b/ \b\b- \b\b\\ \b\b| \b\b/ \b\b- \b\b\\ \b\b| \b\b/ \b\b- \b\b\\ \b\b| \b\b/ \b\b- \b\b\\ \b\b| \b\b/ \b\b- \b\b\\ \b\b| \b\b/ \b\b- \b\b\\ \b\b| \b\b/ \b\b- \b\b\\ \b\b| \b\b/ \b\b- \b\b\\ \b\b| \b\b/ \b\b- \b\b\\ \b\b| \b\b/ \b\b- \b\b\\ \b\b| \b\b/ \b\b- \b\b\\ \b\b| \b\b/ \b\b- \b\b\\ \b\b| \b\b/ \b\b- \b\b\\ \b\b| \b\b/ \b\b- \b\b\\ \b\b| \b\b/ \b\b- \b\b\\ \b\b| \b\b/ \b\b- \b\b\\ \b\b| \b\b/ \b\b- \b\b\\ \b\b| \b\b/ \b\bdone\n",
            "\n",
            "## Package Plan ##\n",
            "\n",
            "  environment location: /usr/local\n",
            "\n",
            "  added / updated specs:\n",
            "    - htseq\n",
            "\n",
            "\n",
            "The following packages will be downloaded:\n",
            "\n",
            "    package                    |            build\n",
            "    ---------------------------|-----------------\n",
            "    htseq-0.12.4               |   py37hb3f55d8_0         338 KB  bioconda\n",
            "    libdeflate-1.0             |       h14c3975_1          43 KB  bioconda\n",
            "    matplotlib-base-3.1.3      |   py37hef1b27d_0         5.0 MB\n",
            "    pysam-0.15.3               |   py37hda2845c_1         2.5 MB  bioconda\n",
            "    ------------------------------------------------------------\n",
            "                                           Total:         7.9 MB\n",
            "\n",
            "The following NEW packages will be INSTALLED:\n",
            "\n",
            "  htseq              bioconda/linux-64::htseq-0.12.4-py37hb3f55d8_0\n",
            "  matplotlib-base    pkgs/main/linux-64::matplotlib-base-3.1.3-py37hef1b27d_0\n",
            "  pysam              bioconda/linux-64::pysam-0.15.3-py37hda2845c_1\n",
            "\n",
            "The following packages will be SUPERSEDED by a higher-priority channel:\n",
            "\n",
            "  libdeflate         conda-forge::libdeflate-1.6-h516909a_0 --> bioconda::libdeflate-1.0-h14c3975_1\n",
            "\n",
            "\n",
            "Proceed ([y]/n)? y\n",
            "\n",
            "\n",
            "Downloading and Extracting Packages\n",
            "htseq-0.12.4         | 338 KB    | : 100% 1.0/1 [00:00<00:00,  7.64it/s]\n",
            "matplotlib-base-3.1. | 5.0 MB    | : 100% 1.0/1 [00:00<00:00,  3.38it/s]               \n",
            "libdeflate-1.0       | 43 KB     | : 100% 1.0/1 [00:00<00:00, 33.04it/s]\n",
            "pysam-0.15.3         | 2.5 MB    | : 100% 1.0/1 [00:00<00:00, 14.56s/it]               \n",
            "Preparing transaction: \\ \b\bdone\n",
            "Verifying transaction: / \b\b- \b\b\\ \b\b| \b\bdone\n",
            "Executing transaction: - \b\b\\ \b\bdone\n"
          ],
          "name": "stdout"
        }
      ]
    },
    {
      "cell_type": "code",
      "metadata": {
        "id": "mmW6Mf8D3RKZ",
        "colab_type": "code",
        "colab": {}
      },
      "source": [
        "# Salmon from source code (standard conda install creates errors on google colab)\n",
        "!wget https://github.com/COMBINE-lab/salmon/releases/download/v1.2.1/salmon-1.2.1_linux_x86_64.tar.gz\n",
        "!tar xzvf salmon-1.2.1_linux_x86_64.tar.gz\n",
        "!rm salmon-1.2.1_linux_x86_64.tar.gz"
      ],
      "execution_count": 0,
      "outputs": []
    },
    {
      "cell_type": "markdown",
      "metadata": {
        "id": "Uy2H2RgOYotv",
        "colab_type": "text"
      },
      "source": [
        "List available packages"
      ]
    },
    {
      "cell_type": "code",
      "metadata": {
        "id": "F8rZe00-LuDx",
        "colab_type": "code",
        "colab": {}
      },
      "source": [
        "!conda info --all\n",
        "\n",
        "!conda list"
      ],
      "execution_count": 0,
      "outputs": []
    },
    {
      "cell_type": "markdown",
      "metadata": {
        "id": "nbIJ2HSwD66d",
        "colab_type": "text"
      },
      "source": [
        "---\n",
        "---\n",
        "\n",
        "Software Packages installation and environment setup complete.\n",
        "\n",
        "---\n",
        "---\n"
      ]
    },
    {
      "cell_type": "markdown",
      "metadata": {
        "id": "rmj0xvO78ucn",
        "colab_type": "text"
      },
      "source": [
        "Download chromosome1 Reference Sequence and create control and treated ref sequences as subsets of chrom1 for simulating the reads.\n",
        "\n",
        "control: contains first two thirds of chr1\n",
        "treated: contains last two thirds of chr1\n",
        "\n",
        "This will create some overlap of gene transcripts but also yeild differential expression since each will create reads with a unique 1/3 of chromosome 1."
      ]
    },
    {
      "cell_type": "code",
      "metadata": {
        "id": "mptS8Dvc2t82",
        "colab_type": "code",
        "outputId": "4eedd640-403c-42db-c603-e861b19e5272",
        "colab": {
          "base_uri": "https://localhost:8080/",
          "height": 303
        }
      },
      "source": [
        "!mkdir simulated_reads\n",
        "!mkdir references\n",
        "!cd references && wget ftp://ftp.ensembl.org/pub/release-88/fasta/homo_sapiens/dna/Homo_sapiens.GRCh38.dna.chromosome.1.fa.gz && gunzip Homo_sapiens.GRCh38.dna.chromosome.1.fa.gz\n",
        "!grep -v \">\" references/Homo_sapiens.GRCh38.dna.chromosome.1.fa > references/simulation_reference.fasta\n",
        "!echo \">chromosome1_control: contains first two thirds of chr1\" > references/control.reference.fasta\n",
        "!echo \">chromosome1_treated: contains last two thirds of chr1\" > references/treated.reference.fasta\n"
      ],
      "execution_count": 0,
      "outputs": [
        {
          "output_type": "stream",
          "text": [
            "--2020-06-01 23:39:28--  ftp://ftp.ensembl.org/pub/release-88/fasta/homo_sapiens/dna/Homo_sapiens.GRCh38.dna.chromosome.1.fa.gz\n",
            "           => ‘Homo_sapiens.GRCh38.dna.chromosome.1.fa.gz’\n",
            "Resolving ftp.ensembl.org (ftp.ensembl.org)... 193.62.197.76\n",
            "Connecting to ftp.ensembl.org (ftp.ensembl.org)|193.62.197.76|:21... connected.\n",
            "Logging in as anonymous ... Logged in!\n",
            "==> SYST ... done.    ==> PWD ... done.\n",
            "==> TYPE I ... done.  ==> CWD (1) /pub/release-88/fasta/homo_sapiens/dna ... done.\n",
            "==> SIZE Homo_sapiens.GRCh38.dna.chromosome.1.fa.gz ... 69273580\n",
            "==> PASV ... done.    ==> RETR Homo_sapiens.GRCh38.dna.chromosome.1.fa.gz ... done.\n",
            "Length: 69273580 (66M) (unauthoritative)\n",
            "\n",
            "Homo_sapiens.GRCh38 100%[===================>]  66.06M  11.9MB/s    in 7.3s    \n",
            "\n",
            "2020-06-01 23:39:39 (9.04 MB/s) - ‘Homo_sapiens.GRCh38.dna.chromosome.1.fa.gz’ saved [69273580]\n",
            "\n"
          ],
          "name": "stdout"
        }
      ]
    },
    {
      "cell_type": "code",
      "metadata": {
        "id": "zpWMBXtl_QOl",
        "colab_type": "code",
        "outputId": "48f2ddbf-d80a-4f14-d127-1a0cd90b8441",
        "colab": {
          "base_uri": "https://localhost:8080/",
          "height": 70
        }
      },
      "source": [
        "num_lines = !wc -l references/simulation_reference.fasta | awk '{print $1}'\n",
        "num_lines=int(num_lines[0])\n",
        "print(num_lines)\n",
        "\n",
        "control_reference_range = [0,round(num_lines*2/3)]\n",
        "treated_reference_range = [round(num_lines/3),num_lines]\n",
        "\n",
        "print(control_reference_range)\n",
        "print(treated_reference_range)"
      ],
      "execution_count": 0,
      "outputs": [
        {
          "output_type": "stream",
          "text": [
            "4149274\n",
            "[0, 2766183]\n",
            "[1383091, 4149274]\n"
          ],
          "name": "stdout"
        }
      ]
    },
    {
      "cell_type": "code",
      "metadata": {
        "id": "VRO2euPAF_qG",
        "colab_type": "code",
        "colab": {}
      },
      "source": [
        "# control = str(control_reference_range[0]) +','+ str(control_reference_range[1]) +'p'\n",
        "# reated = str(treated_reference_range[0]) +','+ str(treated_reference_range[1]) +'p'\n",
        "\n",
        "!sed -n '1,2766183p' references/simulation_reference.fasta >> references/control.reference.fasta\n",
        "!sed -n '1383091,4149274p' references/simulation_reference.fasta >> references/treated.reference.fasta"
      ],
      "execution_count": 0,
      "outputs": []
    },
    {
      "cell_type": "code",
      "metadata": {
        "id": "RJiUCuAmKR2r",
        "colab_type": "code",
        "outputId": "a7a4cef4-64f1-4efd-bae7-2bdfe6a83eb9",
        "colab": {
          "base_uri": "https://localhost:8080/",
          "height": 52
        }
      },
      "source": [
        "num_lines_treated = !wc -l references/treated.reference.fasta | awk '{print $1}'\n",
        "print(num_lines_treated)\n",
        "\n",
        "num_lines_control = !wc -l references/control.reference.fasta | awk '{print $1}'\n",
        "print(num_lines_control)"
      ],
      "execution_count": 0,
      "outputs": [
        {
          "output_type": "stream",
          "text": [
            "['2766185']\n",
            "['2766184']\n"
          ],
          "name": "stdout"
        }
      ]
    },
    {
      "cell_type": "markdown",
      "metadata": {
        "id": "a4TF2TPU64In",
        "colab_type": "text"
      },
      "source": [
        "**Generate simulated reads**\n",
        "\n",
        "Each read is 150 bases. Set with -1151 and -2151 for read1 and read2, respectively.\n",
        "\n",
        "-N5000: directs wgsim to generate 5,000 simulated reads (default is set to: 1,000,000).\n",
        "\n",
        "-S1,S2,S3: specifies a seed for the wgsim random number generator; by specifying a seed value, one can reproducibly create the same set simulated reads."
      ]
    },
    {
      "cell_type": "markdown",
      "metadata": {
        "id": "tRpCvLpuQ4LU",
        "colab_type": "text"
      },
      "source": [
        "**Control**"
      ]
    },
    {
      "cell_type": "code",
      "metadata": {
        "id": "_5641McWRA21",
        "colab_type": "code",
        "colab": {}
      },
      "source": [
        "# Sample 1\n",
        "!wgsim/wgsim -1150 -2150 -N5000 -S1 references/control.reference.fasta simulated_reads/Sample1_control_R1.fq simulated_reads/Sample1_control_R2.fq\n",
        "# Sample 2\n",
        "!wgsim/wgsim -1150 -2150 -N5000 -S2 references/control.reference.fasta simulated_reads/Sample2_control_R1.fq simulated_reads/Sample2_control_R2.fq\n",
        "# Sample 3\n",
        "!wgsim/wgsim -1150 -2150 -N5000 -S3 references/control.reference.fasta simulated_reads/Sample3_control_R1.fq simulated_reads/Sample3_control_R2.fq"
      ],
      "execution_count": 0,
      "outputs": []
    },
    {
      "cell_type": "markdown",
      "metadata": {
        "id": "FdCtZ9Ss5qKs",
        "colab_type": "text"
      },
      "source": [
        " **Treated**"
      ]
    },
    {
      "cell_type": "code",
      "metadata": {
        "id": "FQblBlhfRA58",
        "colab_type": "code",
        "colab": {}
      },
      "source": [
        "# Sample 4\n",
        "!wgsim/wgsim -1150 -2150 -N5000 -S1 references/treated.reference.fasta simulated_reads/Sample4_treated_R1.fq simulated_reads/Sample4_treated_R2.fq\n",
        "# Sample 5\n",
        "!wgsim/wgsim -1150 -2150 -N5000 -S2 references/treated.reference.fasta simulated_reads/Sample5_treated_R1.fq simulated_reads/Sample5_treated_R2.fq\n",
        "# Sample 6\n",
        "!wgsim/wgsim -1150 -2150 -N5000 -S3 references/treated.reference.fasta simulated_reads/Sample6_treated_R1.fq simulated_reads/Sample6_treated_R2.fq"
      ],
      "execution_count": 0,
      "outputs": []
    },
    {
      "cell_type": "markdown",
      "metadata": {
        "id": "jmsHY8Db088c",
        "colab_type": "text"
      },
      "source": [
        "**Pipeline 1:**\n",
        "\n",
        "RNA -> Bowtie2 -> Samtools -> Htseq-count -> Deseq2 -> Visualize"
      ]
    },
    {
      "cell_type": "markdown",
      "metadata": {
        "id": "AXlJ9z0ZUQu5",
        "colab_type": "text"
      },
      "source": [
        "1) Install Reference genome and reads for alignment tutorial.\n"
      ]
    },
    {
      "cell_type": "code",
      "metadata": {
        "id": "ozeOYJlnR4OP",
        "colab_type": "code",
        "colab": {}
      },
      "source": [
        "!git clone https://github.com/Mangul-Lab-USC/RNA-SEQ-Tutorial-PART1.git"
      ],
      "execution_count": 0,
      "outputs": []
    },
    {
      "cell_type": "markdown",
      "metadata": {
        "id": "J4bmVycpI2Yy",
        "colab_type": "text"
      },
      "source": [
        "2) Perform alignment to reference genome using bowtie."
      ]
    },
    {
      "cell_type": "code",
      "metadata": {
        "id": "eYmeNCjlIaBj",
        "colab_type": "code",
        "colab": {}
      },
      "source": [
        "!mkdir sam_files\n",
        "\n",
        "# generate bowtie index from chr1 reference sequence.\n",
        "!bowtie2-build -f references/Homo_sapiens.GRCh38.dna.chromosome.1.fa references/chr1_ref\n",
        "\n",
        "# Sample1\n",
        "!bowtie2 -x references/chr1_ref -1 simulated_reads/Sample1_control_R1.fq -2 simulated_reads/Sample1_control_R2.fq -S sam_files/Sample1_control.sam \n",
        "# Sample2\n",
        "!bowtie2 -x references/chr1_ref -1 simulated_reads/Sample2_control_R1.fq -2 simulated_reads/Sample2_control_R2.fq -S sam_files/Sample2_control.sam \n",
        "# Sample3\n",
        "!bowtie2 -x references/chr1_ref -1 simulated_reads/Sample3_control_R1.fq -2 simulated_reads/Sample3_control_R2.fq -S sam_files/Sample3_control.sam \n",
        "# Sample4\n",
        "!bowtie2 -x references/chr1_ref -1 simulated_reads/Sample4_treated_R1.fq -2 simulated_reads/Sample4_treated_R2.fq -S sam_files/Sample4_treated.sam \n",
        "# Sample5\n",
        "!bowtie2 -x references/chr1_ref -1 simulated_reads/Sample5_treated_R1.fq -2 simulated_reads/Sample5_treated_R2.fq -S sam_files/Sample5_treated.sam \n",
        "# Sample6\n",
        "!bowtie2 -x references/chr1_ref -1 simulated_reads/Sample6_treated_R1.fq -2 simulated_reads/Sample6_treated_R2.fq -S sam_files/Sample6_treated.sam \n",
        "\n",
        "\n",
        "\n",
        "# not working hisat tool for alignment. Using bowtie instead.\n",
        "# !index=\"references/Homo_sapiens.GRCh38.dna.chromosome.1.fa\"\n",
        "# !hisat2 -x $index -1 simulated_reads/Sample1_control_R1.fq -2 simulated_reads/Sample1_control_R2.fq -S sam_files/Sample1_control.sam"
      ],
      "execution_count": 0,
      "outputs": []
    },
    {
      "cell_type": "markdown",
      "metadata": {
        "id": "Mcn6xpU4JC8B",
        "colab_type": "text"
      },
      "source": [
        "3) convert the sam files to bam files and sort them by sequence name as specified by htseq-count input for paired end reads."
      ]
    },
    {
      "cell_type": "code",
      "metadata": {
        "id": "HtSLIUZxJCf2",
        "colab_type": "code",
        "colab": {}
      },
      "source": [
        "!mkdir bam_files\n",
        "\n",
        "# Sample1\n",
        "!samtools view -bS sam_files/Sample1_control.sam > bam_files/Sample1_control.bam\n",
        "!samtools sort -n bam_files/Sample1_control.bam -o bam_files/Sample1_control.sorted.bam\n",
        "\n",
        "#########################\n",
        "# Sample2\n",
        "!samtools view -bS sam_files/Sample2_control.sam > bam_files/Sample2_control.bam\n",
        "!samtools sort -n bam_files/Sample2_control.bam -o bam_files/Sample2_control.sorted.bam\n",
        "\n",
        "#########################\n",
        "# Sample3\n",
        "!samtools view -bS sam_files/Sample3_control.sam > bam_files/Sample3_control.bam\n",
        "!samtools sort -n bam_files/Sample3_control.bam -o bam_files/Sample3_control.sorted.bam\n",
        "\n",
        "#########################\n",
        "# Sample4\n",
        "!samtools view -bS sam_files/Sample4_treated.sam > bam_files/Sample4_treated.bam\n",
        "!samtools sort -n bam_files/Sample4_treated.bam -o bam_files/Sample4_treated.sorted.bam\n",
        "\n",
        "#########################\n",
        "# Sample5\n",
        "!samtools view -bS sam_files/Sample5_treated.sam > bam_files/Sample5_treated.bam\n",
        "!samtools sort -n bam_files/Sample5_treated.bam -o bam_files/Sample5_treated.sorted.bam\n",
        "\n",
        "#########################\n",
        "# Sample6\n",
        "!samtools view -bS sam_files/Sample6_treated.sam > bam_files/Sample6_treated.bam\n",
        "!samtools sort -n bam_files/Sample6_treated.bam -o bam_files/Sample6_treated.sorted.bam\n",
        "\n",
        "\n",
        "\n",
        "# We now have sorted Bam files called *.sorted.bam.\n",
        "# Sorted BAM is a useful format because the alignments are (a) compressed, \n",
        "# which is convenient for long-term storage, and (b) sorted, \n",
        "# which is convenient for variant discovery.\n",
        "\n",
        "# not reccommended: Sort the sam file without bam compression option.\n",
        "# !samtools sort -n sam_files/Sample6_treated.sam -o sam_files/Sample6_treated.sorted.sam\n",
        "# !rm sam_files/Sample6_treated.sam"
      ],
      "execution_count": 0,
      "outputs": []
    },
    {
      "cell_type": "markdown",
      "metadata": {
        "id": "A9jeuT0vJFDA",
        "colab_type": "text"
      },
      "source": [
        "4) Run Htseq-count on the bam files to obtain gene \n",
        "transcript matrix."
      ]
    },
    {
      "cell_type": "code",
      "metadata": {
        "id": "9Z8Nhwm7JFTz",
        "colab_type": "code",
        "colab": {}
      },
      "source": [
        "!mkdir htseq-count\n",
        "# human gtf file\n",
        "!wget ftp://ftp.ensembl.org/pub/release-77/gtf/homo_sapiens/Homo_sapiens.GRCh38.77.gtf.gz && gunzip Homo_sapiens.GRCh38.77.gtf.gz\n",
        "!mv Homo_sapiens.GRCh38.77.gtf htseq-count/\n",
        "\n",
        "# sample1\n",
        "!htseq-count -f bam bam_files/Sample1_control.sorted.bam htseq-count/Homo_sapiens.GRCh38.77.gtf > htseq-count/Sample1.txt\n",
        "\n",
        "# sample2\n",
        "!htseq-count -f bam bam_files/Sample2_control.sorted.bam htseq-count/Homo_sapiens.GRCh38.77.gtf > htseq-count/Sample2.txt\n",
        "\n",
        "# sample3\n",
        "!htseq-count -f bam bam_files/Sample3_control.sorted.bam htseq-count/Homo_sapiens.GRCh38.77.gtf > htseq-count/Sample3.txt\n",
        "\n",
        "# sample4\n",
        "!htseq-count -f bam bam_files/Sample4_treated.sorted.bam htseq-count/Homo_sapiens.GRCh38.77.gtf > htseq-count/Sample4.txt\n",
        "\n",
        "# sample5\n",
        "!htseq-count -f bam bam_files/Sample5_treated.sorted.bam htseq-count/Homo_sapiens.GRCh38.77.gtf > htseq-count/Sample5.txt\n",
        "\n",
        "# sample6\n",
        "!htseq-count -f bam bam_files/Sample6_treated.sorted.bam htseq-count/Homo_sapiens.GRCh38.77.gtf > htseq-count/Sample6.txt\n",
        "\n"
      ],
      "execution_count": 0,
      "outputs": []
    },
    {
      "cell_type": "code",
      "metadata": {
        "id": "7GD0Ly-Vmf7-",
        "colab_type": "code",
        "outputId": "200da8be-3e3d-4df4-eabf-09b141cfa11e",
        "colab": {
          "base_uri": "https://localhost:8080/",
          "height": 194
        }
      },
      "source": [
        "!mkdir RNA-SEQ-Tutorial-PART1/htseq-counts\n",
        "!cp htseq-count/*.txt RNA-SEQ-Tutorial-PART1/htseq-counts/\n",
        "# !cd RNA-SEQ-Tutorial-PART1/ && git add . && git commit -m \"htseq-counts complete\" && git push origin master"
      ],
      "execution_count": 0,
      "outputs": [
        {
          "output_type": "stream",
          "text": [
            "On branch master\n",
            "Your branch is up to date with 'origin/master'.\n",
            "\n",
            "Untracked files:\n",
            "  (use \"git add <file>...\" to include in what will be committed)\n",
            "\n",
            "\t\u001b[31mhtseq-counts/\u001b[m\n",
            "\t\u001b[31msalmon_quants/\u001b[m\n",
            "\n",
            "nothing added to commit but untracked files present (use \"git add\" to track)\n"
          ],
          "name": "stdout"
        }
      ]
    },
    {
      "cell_type": "markdown",
      "metadata": {
        "id": "31HdTIAYJFfc",
        "colab_type": "text"
      },
      "source": [
        "5) Generate a gene matrix as preparation for Deseq2. Save this output to google drive and import it into the R google collab for deseq2 analysis and visualization.\n",
        "\n",
        "\n",
        "---\n",
        "Deseq2 is a tool that must be run using the R programming language. For this tutorial you will now open the other google colab notebook we have created that is configured for R and deseq2. \n",
        "\n",
        "Make sure you save the gene_count matrix outputs of pipelines 1 and 2 to your google drive. That way you can load these results into the deseq2 R notebook.\n"
      ]
    },
    {
      "cell_type": "code",
      "metadata": {
        "id": "tNhJQ_8AtUm1",
        "colab_type": "code",
        "colab": {}
      },
      "source": [
        ""
      ],
      "execution_count": 0,
      "outputs": []
    },
    {
      "cell_type": "code",
      "metadata": {
        "id": "ft2RXlMktqUn",
        "colab_type": "code",
        "colab": {}
      },
      "source": [
        ""
      ],
      "execution_count": 0,
      "outputs": []
    },
    {
      "cell_type": "code",
      "metadata": {
        "id": "feRW4Jb-tqXV",
        "colab_type": "code",
        "colab": {}
      },
      "source": [
        ""
      ],
      "execution_count": 0,
      "outputs": []
    },
    {
      "cell_type": "markdown",
      "metadata": {
        "id": "AnkZP7ry2uoL",
        "colab_type": "text"
      },
      "source": [
        "**Pipeline 2:**\n",
        "\n",
        "RNA -> Salmon -> Deseq2 -> Visualize"
      ]
    },
    {
      "cell_type": "markdown",
      "metadata": {
        "id": "nfLJrjfM3aBO",
        "colab_type": "text"
      },
      "source": [
        "1) Run Salmon on the RNA seq data to extract gene transcripts."
      ]
    },
    {
      "cell_type": "code",
      "metadata": {
        "id": "z9ZKZuQbJFp2",
        "colab_type": "code",
        "colab": {}
      },
      "source": [
        "!mkdir salmon\n",
        "!wget ftp://ftp.ensembl.org/pub/release-89/fasta/homo_sapiens/cdna/Homo_sapiens.GRCh38.cdna.all.fa.gz\n",
        "# # https://www.biostars.org/p/257180/\n",
        "!mv Homo_sapiens.GRCh38.cdna.all.fa.gz salmon/\n",
        "\n",
        "# create salmon index out of ensemble gene transcripts for human GRCh38\n",
        "!salmon-latest_linux_x86_64/bin/salmon index -t salmon/Homo_sapiens.GRCh38.cdna.all.fa.gz -i salmon/transcripts_index\n",
        "\n",
        "# run salmon quantification on reads\n",
        "\n",
        "# Sample1\n",
        "!salmon-latest_linux_x86_64/bin/salmon quant -i salmon/transcripts_index -l A -1 simulated_reads/Sample1_control_R1.fq  -2 simulated_reads/Sample1_control_R2.fq -p 8 --validateMappings -o salmon/sample1_transcripts_quant\n",
        "\n",
        "# Sample2\n",
        "!salmon-latest_linux_x86_64/bin/salmon quant -i salmon/transcripts_index -l A -1 simulated_reads/Sample2_control_R1.fq  -2 simulated_reads/Sample2_control_R2.fq -p 8 --validateMappings -o salmon/sample2_transcripts_quant\n",
        "\n",
        "\n",
        "# Sample3\n",
        "!salmon-latest_linux_x86_64/bin/salmon quant -i salmon/transcripts_index -l A -1 simulated_reads/Sample3_control_R1.fq  -2 simulated_reads/Sample3_control_R2.fq -p 8 --validateMappings -o salmon/sample3_transcripts_quant\n",
        "\n",
        "\n",
        "# Sample4\n",
        "!salmon-latest_linux_x86_64/bin/salmon quant -i salmon/transcripts_index -l A -1 simulated_reads/Sample4_treated_R1.fq  -2 simulated_reads/Sample4_treated_R2.fq -p 8 --validateMappings -o salmon/sample4_transcripts_quant\n",
        "\n",
        "\n",
        "# Sample5\n",
        "!salmon-latest_linux_x86_64/bin/salmon quant -i salmon/transcripts_index -l A -1 simulated_reads/Sample5_treated_R1.fq  -2 simulated_reads/Sample5_treated_R2.fq -p 8 --validateMappings -o salmon/sample5_transcripts_quant\n",
        "\n",
        "\n",
        "# Sample6\n",
        "!salmon-latest_linux_x86_64/bin/salmon quant -i salmon/transcripts_index -l A -1 simulated_reads/Sample6_treated_R1.fq  -2 simulated_reads/Sample6_treated_R2.fq -p 8 --validateMappings -o salmon/sample6_transcripts_quant\n",
        "\n",
        "\n"
      ],
      "execution_count": 0,
      "outputs": []
    },
    {
      "cell_type": "code",
      "metadata": {
        "id": "pko_UmH9lefU",
        "colab_type": "code",
        "colab": {}
      },
      "source": [
        "# rename salmon quant file outputs according to sample name and place inside forked git repository.\n",
        "!mkdir RNA-SEQ-Tutorial-PART1/salmon_quants\n",
        "!cp salmon/sample1_transcripts_quant/quant.sf RNA-SEQ-Tutorial-PART1/salmon_quants/Sample1.txt\n",
        "!cp salmon/sample2_transcripts_quant/quant.sf RNA-SEQ-Tutorial-PART1/salmon_quants/Sample2.txt\n",
        "!cp salmon/sample3_transcripts_quant/quant.sf RNA-SEQ-Tutorial-PART1/salmon_quants/Sample3.txt\n",
        "!cp salmon/sample4_transcripts_quant/quant.sf RNA-SEQ-Tutorial-PART1/salmon_quants/Sample4.txt\n",
        "!cp salmon/sample5_transcripts_quant/quant.sf RNA-SEQ-Tutorial-PART1/salmon_quants/Sample5.txt\n",
        "!cp salmon/sample6_transcripts_quant/quant.sf RNA-SEQ-Tutorial-PART1/salmon_quants/Sample6.txt\n",
        "\n"
      ],
      "execution_count": 0,
      "outputs": []
    },
    {
      "cell_type": "markdown",
      "metadata": {
        "id": "ic0Hq7DqnC1A",
        "colab_type": "text"
      },
      "source": [
        "Clean up salmon quant files for later recombination into combined sample genecount matrix\n"
      ]
    },
    {
      "cell_type": "code",
      "metadata": {
        "id": "0ExqRTgQIZ_-",
        "colab_type": "code",
        "colab": {}
      },
      "source": [
        "\n",
        "import pandas as pd\n",
        "\n",
        "# sample1\n",
        "df1 = pd.read_csv(\"/content/RNA-SEQ-Tutorial-PART1/salmon_quants/Sample1.txt\", sep='\\t')\n",
        "df1['NumReads'] = df1['NumReads'].apply(np.floor).astype(int)\n",
        "df1 = df1.drop(columns=['Length', 'EffectiveLength', 'TPM'])\n",
        "df1.columns = df1.iloc[0]\n",
        "df1 = df1[1:] \n",
        "df1.to_csv('/content/RNA-SEQ-Tutorial-PART1/salmon_quants/Sample1.txt',index=False, sep='\\t')\n",
        "\n",
        "# sample2\n",
        "df2 = pd.read_csv(\"/content/RNA-SEQ-Tutorial-PART1/salmon_quants/Sample2.txt\", sep='\\t')\n",
        "df2['NumReads'] = df2['NumReads'].apply(np.floor).astype(int)\n",
        "df2 = df2.drop(columns=['Length', 'EffectiveLength', 'TPM'])\n",
        "df2.columns = df2.iloc[0]\n",
        "df2 = df2[1:] \n",
        "df2.to_csv('/content/RNA-SEQ-Tutorial-PART1/salmon_quants/Sample2.txt',index=False, sep='\\t')\n",
        "\n",
        "\n",
        "# sample3\n",
        "df3 = pd.read_csv(\"/content/RNA-SEQ-Tutorial-PART1/salmon_quants/Sample3.txt\", sep='\\t')\n",
        "df3['NumReads'] = df3['NumReads'].apply(np.floor).astype(int)\n",
        "df3 = df3.drop(columns=['Length', 'EffectiveLength', 'TPM'])\n",
        "df3.columns = df3.iloc[0]\n",
        "df3 = df3[1:] \n",
        "df3.to_csv('/content/RNA-SEQ-Tutorial-PART1/salmon_quants/Sample3.txt',index=False, sep='\\t')\n",
        "\n",
        "\n",
        "# sample4\n",
        "df4 = pd.read_csv(\"/content/RNA-SEQ-Tutorial-PART1/salmon_quants/Sample4.txt\", sep='\\t')\n",
        "df4['NumReads'] = df4['NumReads'].apply(np.floor).astype(int)\n",
        "df4 = df4.drop(columns=['Length', 'EffectiveLength', 'TPM'])\n",
        "df4.columns = df4.iloc[0]\n",
        "df4 = df4[1:] \n",
        "df4.to_csv('/content/RNA-SEQ-Tutorial-PART1/salmon_quants/Sample4.txt',index=False, sep='\\t')\n",
        "\n",
        "\n",
        "# sample5\n",
        "df5 = pd.read_csv(\"/content/RNA-SEQ-Tutorial-PART1/salmon_quants/Sample5.txt\", sep='\\t')\n",
        "df5['NumReads'] = df5['NumReads'].apply(np.floor).astype(int)\n",
        "df5 = df5.drop(columns=['Length', 'EffectiveLength', 'TPM'])\n",
        "df5.columns = df5.iloc[0]\n",
        "df5 = df5[1:] \n",
        "df5.to_csv('/content/RNA-SEQ-Tutorial-PART1/salmon_quants/Sample5.txt',index=False, sep='\\t')\n",
        "\n",
        "\n",
        "# sample6\n",
        "df6 = pd.read_csv(\"/content/RNA-SEQ-Tutorial-PART1/salmon_quants/Sample6.txt\", sep='\\t')\n",
        "df6['NumReads'] = df6['NumReads'].apply(np.floor).astype(int)\n",
        "df6 = df6.drop(columns=['Length', 'EffectiveLength', 'TPM'])\n",
        "df6.columns = df6.iloc[0]\n",
        "df6 = df6[1:] \n",
        "df6.to_csv('/content/RNA-SEQ-Tutorial-PART1/salmon_quants/Sample6.txt',index=False, sep='\\t')\n",
        "\n",
        "# !cd RNA-SEQ-Tutorial-PART1/ && git add . && git commit -m \"salmon-quants complete\" && git push origin master"
      ],
      "execution_count": 0,
      "outputs": []
    },
    {
      "cell_type": "markdown",
      "metadata": {
        "id": "w7eCyRC7nQCq",
        "colab_type": "text"
      },
      "source": [
        "QC check"
      ]
    },
    {
      "cell_type": "code",
      "metadata": {
        "id": "nlRdm0BuIZ6Y",
        "colab_type": "code",
        "colab": {}
      },
      "source": [
        "df = pd.read_csv(\"/content/RNA-SEQ-Tutorial-PART1/htseq-counts/Sample1.txt\", sep='\\t')\n",
        "df.head()\n",
        "df.loc[df[\"0\"]>1]"
      ],
      "execution_count": 0,
      "outputs": []
    },
    {
      "cell_type": "code",
      "metadata": {
        "id": "8yoNdRzunZQ-",
        "colab_type": "code",
        "colab": {}
      },
      "source": [
        "df = pd.read_csv(\"/content/RNA-SEQ-Tutorial-PART1/salmon_quants/Sample1.txt\", sep='\\t')\n",
        "df.head()\n",
        "df.loc[df[\"0\"]>1]"
      ],
      "execution_count": 0,
      "outputs": []
    },
    {
      "cell_type": "markdown",
      "metadata": {
        "id": "eeOvmzSe3pRu",
        "colab_type": "text"
      },
      "source": [
        "2) Generate a gene matrix as preparation for Deseq2. Save this output to google drive and import it into the R google collab for deseq2 analysis and visualization."
      ]
    },
    {
      "cell_type": "code",
      "metadata": {
        "id": "EQgD2iLqIZ35",
        "colab_type": "code",
        "colab": {}
      },
      "source": [
        ""
      ],
      "execution_count": 0,
      "outputs": []
    },
    {
      "cell_type": "code",
      "metadata": {
        "id": "xwUFE0Z-r6JK",
        "colab_type": "code",
        "colab": {}
      },
      "source": [
        ""
      ],
      "execution_count": 0,
      "outputs": []
    },
    {
      "cell_type": "code",
      "metadata": {
        "id": "9YDFyvTLr6Gm",
        "colab_type": "code",
        "colab": {}
      },
      "source": [
        ""
      ],
      "execution_count": 0,
      "outputs": []
    }
  ]
}