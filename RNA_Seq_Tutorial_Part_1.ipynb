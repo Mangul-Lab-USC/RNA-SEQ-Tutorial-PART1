{
  "nbformat": 4,
  "nbformat_minor": 0,
  "metadata": {
    "colab": {
      "name": "RNA-Seq-Tutorial-Part-1.ipynb",
      "provenance": [],
      "collapsed_sections": []
    },
    "kernelspec": {
      "name": "python3",
      "display_name": "Python 3"
    }
  },
  "cells": [
    {
      "cell_type": "markdown",
      "metadata": {
        "id": "y6P_zIWBTvYl",
        "colab_type": "text"
      },
      "source": [
        "Set up Anaconda and Bioconda in Google Colab notebook.\n"
      ]
    },
    {
      "cell_type": "code",
      "metadata": {
        "id": "rzPBN6lNKyzU",
        "colab_type": "code",
        "colab": {}
      },
      "source": [
        "!wget https://repo.anaconda.com/archive/Anaconda3-2019.10-Linux-x86_64.sh && bash Anaconda3-2019.10-Linux-x86_64.sh -bfp /usr/local\n"
      ],
      "execution_count": 0,
      "outputs": []
    },
    {
      "cell_type": "markdown",
      "metadata": {
        "colab_type": "text",
        "id": "-wyyHNHi08s2"
      },
      "source": [
        "Attach packages to python environment"
      ]
    },
    {
      "cell_type": "code",
      "metadata": {
        "id": "P_WZ5ohTLsrh",
        "colab_type": "code",
        "colab": {}
      },
      "source": [
        "import sys\n",
        "sys.path.append('/usr/local/lib/python3.7/site-packages')\n",
        "sys.path.append('/usr/local/lib/R/bin')"
      ],
      "execution_count": 0,
      "outputs": []
    },
    {
      "cell_type": "markdown",
      "metadata": {
        "id": "lczUdbDdUEBU",
        "colab_type": "text"
      },
      "source": [
        "Set Up and Activate Bioconda Channels"
      ]
    },
    {
      "cell_type": "code",
      "metadata": {
        "id": "hm3Xkjb-NVZJ",
        "colab_type": "code",
        "colab": {}
      },
      "source": [
        "!conda config --add channels defaults\n",
        "!conda config --add channels bioconda\n",
        "!conda config --add channels conda-forge"
      ],
      "execution_count": 0,
      "outputs": []
    },
    {
      "cell_type": "markdown",
      "metadata": {
        "id": "f9xDj5Zm4l8l",
        "colab_type": "text"
      },
      "source": [
        "With an activated Bioconda Channel, Install Bioconductor."
      ]
    },
    {
      "cell_type": "code",
      "metadata": {
        "id": "6RHS6ek84mkx",
        "colab_type": "code",
        "colab": {}
      },
      "source": [
        "# !conda install bioconductor-all\n",
        "# !conda install bioconductor-deseq2\n",
        "# conda install -c bioconda bioconductor-deseq2"
      ],
      "execution_count": 0,
      "outputs": []
    },
    {
      "cell_type": "markdown",
      "metadata": {
        "id": "5CqWyfuvUJvw",
        "colab_type": "text"
      },
      "source": [
        "Install hisat2, samtools htseq, salmon, deseq2 with conda"
      ]
    },
    {
      "cell_type": "code",
      "metadata": {
        "id": "8LUYniVIbFdK",
        "colab_type": "code",
        "colab": {}
      },
      "source": [
        "!conda install hisat2\n",
        "# conda install -c bioconda hisat2"
      ],
      "execution_count": 0,
      "outputs": []
    },
    {
      "cell_type": "code",
      "metadata": {
        "id": "npaiIAEsSbYS",
        "colab_type": "code",
        "colab": {}
      },
      "source": [
        "!conda install samtools\n",
        "# conda install -c bioconda samtools"
      ],
      "execution_count": 0,
      "outputs": []
    },
    {
      "cell_type": "code",
      "metadata": {
        "id": "lJxVmRLINrPr",
        "colab_type": "code",
        "colab": {}
      },
      "source": [
        "!conda install htseq\n",
        "# conda install -c bioconda htseq"
      ],
      "execution_count": 0,
      "outputs": []
    },
    {
      "cell_type": "code",
      "metadata": {
        "id": "mmW6Mf8D3RKZ",
        "colab_type": "code",
        "colab": {}
      },
      "source": [
        "!conda install salmon\n",
        "# conda install -c bioconda salmon"
      ],
      "execution_count": 0,
      "outputs": []
    },
    {
      "cell_type": "markdown",
      "metadata": {
        "id": "Uy2H2RgOYotv",
        "colab_type": "text"
      },
      "source": [
        "List available packages"
      ]
    },
    {
      "cell_type": "code",
      "metadata": {
        "id": "F8rZe00-LuDx",
        "colab_type": "code",
        "colab": {}
      },
      "source": [
        "!conda info --all\n",
        "\n",
        "!conda list"
      ],
      "execution_count": 0,
      "outputs": []
    },
    {
      "cell_type": "markdown",
      "metadata": {
        "id": "nbIJ2HSwD66d",
        "colab_type": "text"
      },
      "source": [
        "---\n",
        "---\n",
        "\n",
        "Software Packages installation and environment setup complete.\n",
        "\n",
        "---\n",
        "---\n"
      ]
    },
    {
      "cell_type": "code",
      "metadata": {
        "id": "mptS8Dvc2t82",
        "colab_type": "code",
        "colab": {}
      },
      "source": [
        ""
      ],
      "execution_count": 0,
      "outputs": []
    },
    {
      "cell_type": "markdown",
      "metadata": {
        "id": "jmsHY8Db088c",
        "colab_type": "text"
      },
      "source": [
        "**Pipeline 1:**\n",
        "\n",
        "RNA -> Histat2 -> Samtools -> Htseq-count -> Deseq2 -> Visualize"
      ]
    },
    {
      "cell_type": "markdown",
      "metadata": {
        "id": "AXlJ9z0ZUQu5",
        "colab_type": "text"
      },
      "source": [
        "1) Install Reference genome and reads for alignment tutorial.\n"
      ]
    },
    {
      "cell_type": "code",
      "metadata": {
        "id": "ozeOYJlnR4OP",
        "colab_type": "code",
        "colab": {}
      },
      "source": [
        "!git clone https://github.com/Mangul-Lab-USC/RNA-SEQ-Tutorial-PART1.git"
      ],
      "execution_count": 0,
      "outputs": []
    },
    {
      "cell_type": "markdown",
      "metadata": {
        "id": "J4bmVycpI2Yy",
        "colab_type": "text"
      },
      "source": [
        "2) Perform alignment to reference genome using hisat2."
      ]
    },
    {
      "cell_type": "code",
      "metadata": {
        "id": "eYmeNCjlIaBj",
        "colab_type": "code",
        "colab": {}
      },
      "source": [
        ""
      ],
      "execution_count": 0,
      "outputs": []
    },
    {
      "cell_type": "markdown",
      "metadata": {
        "id": "Mcn6xpU4JC8B",
        "colab_type": "text"
      },
      "source": [
        "3) Convert sam files to bam files and generate bam index for downstream bioinformatics pipeline."
      ]
    },
    {
      "cell_type": "code",
      "metadata": {
        "id": "HtSLIUZxJCf2",
        "colab_type": "code",
        "colab": {}
      },
      "source": [
        ""
      ],
      "execution_count": 0,
      "outputs": []
    },
    {
      "cell_type": "markdown",
      "metadata": {
        "id": "A9jeuT0vJFDA",
        "colab_type": "text"
      },
      "source": [
        "4) Run Htseq-count on the bam files to obtain gene \n",
        "transcript matrix."
      ]
    },
    {
      "cell_type": "code",
      "metadata": {
        "id": "9Z8Nhwm7JFTz",
        "colab_type": "code",
        "colab": {}
      },
      "source": [
        ""
      ],
      "execution_count": 0,
      "outputs": []
    },
    {
      "cell_type": "markdown",
      "metadata": {
        "id": "31HdTIAYJFfc",
        "colab_type": "text"
      },
      "source": [
        "5) Run Deseq2 on the gene transcript data to generate differential gene expression analysis.\n",
        "\n",
        "---\n",
        "Deseq2 is a tool that must be run using the R programming language. For this tutorial you will now open the other google colab notebook we have created that is configured for R and deseq2. \n",
        "\n",
        "Make sure you save the gene_count matrix outputs of pipelines 1 and 2 to your google drive. That way you can load these results into the deseq2 R notebook.\n"
      ]
    },
    {
      "cell_type": "markdown",
      "metadata": {
        "id": "AnkZP7ry2uoL",
        "colab_type": "text"
      },
      "source": [
        "**Pipeline 2:**\n",
        "\n",
        "RNA -> Salmon -> Deseq2 -> Visualize"
      ]
    },
    {
      "cell_type": "markdown",
      "metadata": {
        "id": "nfLJrjfM3aBO",
        "colab_type": "text"
      },
      "source": [
        "1) Run Salmon on the RNA seq data to extract gene transcripts."
      ]
    },
    {
      "cell_type": "code",
      "metadata": {
        "id": "z9ZKZuQbJFp2",
        "colab_type": "code",
        "colab": {}
      },
      "source": [
        ""
      ],
      "execution_count": 0,
      "outputs": []
    },
    {
      "cell_type": "markdown",
      "metadata": {
        "id": "eeOvmzSe3pRu",
        "colab_type": "text"
      },
      "source": [
        "2) Generate a gene matrix as preparation for Deseq2. Save this output to google drive and import it into the R google collab for deseq2 analysis and visualization."
      ]
    },
    {
      "cell_type": "code",
      "metadata": {
        "id": "0ExqRTgQIZ_-",
        "colab_type": "code",
        "colab": {}
      },
      "source": [
        ""
      ],
      "execution_count": 0,
      "outputs": []
    },
    {
      "cell_type": "code",
      "metadata": {
        "id": "1OIChQBQIZ83",
        "colab_type": "code",
        "colab": {}
      },
      "source": [
        ""
      ],
      "execution_count": 0,
      "outputs": []
    },
    {
      "cell_type": "code",
      "metadata": {
        "id": "nlRdm0BuIZ6Y",
        "colab_type": "code",
        "colab": {}
      },
      "source": [
        ""
      ],
      "execution_count": 0,
      "outputs": []
    },
    {
      "cell_type": "code",
      "metadata": {
        "id": "EQgD2iLqIZ35",
        "colab_type": "code",
        "colab": {}
      },
      "source": [
        ""
      ],
      "execution_count": 0,
      "outputs": []
    },
    {
      "cell_type": "code",
      "metadata": {
        "id": "l91AZ2-OIZ1Z",
        "colab_type": "code",
        "colab": {}
      },
      "source": [
        ""
      ],
      "execution_count": 0,
      "outputs": []
    },
    {
      "cell_type": "code",
      "metadata": {
        "id": "ye2QK4Qy32eQ",
        "colab_type": "code",
        "colab": {}
      },
      "source": [
        ""
      ],
      "execution_count": 0,
      "outputs": []
    },
    {
      "cell_type": "code",
      "metadata": {
        "id": "38OWwj3Q33iB",
        "colab_type": "code",
        "colab": {}
      },
      "source": [
        ""
      ],
      "execution_count": 0,
      "outputs": []
    },
    {
      "cell_type": "code",
      "metadata": {
        "id": "yYZvSqXf33p7",
        "colab_type": "code",
        "colab": {}
      },
      "source": [
        ""
      ],
      "execution_count": 0,
      "outputs": []
    },
    {
      "cell_type": "code",
      "metadata": {
        "id": "KNHhHNsr33oj",
        "colab_type": "code",
        "colab": {}
      },
      "source": [
        ""
      ],
      "execution_count": 0,
      "outputs": []
    },
    {
      "cell_type": "code",
      "metadata": {
        "id": "GXV1ePSH33k-",
        "colab_type": "code",
        "colab": {}
      },
      "source": [
        ""
      ],
      "execution_count": 0,
      "outputs": []
    },
    {
      "cell_type": "code",
      "metadata": {
        "id": "JGwRN6F-32b1",
        "colab_type": "code",
        "colab": {}
      },
      "source": [
        ""
      ],
      "execution_count": 0,
      "outputs": []
    },
    {
      "cell_type": "code",
      "metadata": {
        "id": "ON0cQecn32Zl",
        "colab_type": "code",
        "colab": {}
      },
      "source": [
        ""
      ],
      "execution_count": 0,
      "outputs": []
    },
    {
      "cell_type": "code",
      "metadata": {
        "id": "93q9W2RF32YM",
        "colab_type": "code",
        "colab": {}
      },
      "source": [
        ""
      ],
      "execution_count": 0,
      "outputs": []
    },
    {
      "cell_type": "code",
      "metadata": {
        "id": "bWzDJp9a32VO",
        "colab_type": "code",
        "colab": {}
      },
      "source": [
        ""
      ],
      "execution_count": 0,
      "outputs": []
    },
    {
      "cell_type": "markdown",
      "metadata": {
        "id": "itjxnbzLUbzS",
        "colab_type": "text"
      },
      "source": [
        "Run BWA on sample data"
      ]
    },
    {
      "cell_type": "code",
      "metadata": {
        "id": "XGfiXcSyLuBu",
        "colab_type": "code",
        "colab": {}
      },
      "source": [
        "!bwa index -p HIV_ref_bwa BWA_Tutorial/HIV_ref.fasta"
      ],
      "execution_count": 0,
      "outputs": []
    },
    {
      "cell_type": "code",
      "metadata": {
        "id": "rGXMWk31PhOi",
        "colab_type": "code",
        "colab": {}
      },
      "source": [
        "!bwa mem HIV_ref_bwa BWA_Tutorial/reads.fasta > reads_bwa.sam"
      ],
      "execution_count": 0,
      "outputs": []
    },
    {
      "cell_type": "code",
      "metadata": {
        "id": "QT-_5dA-PhS8",
        "colab_type": "code",
        "colab": {}
      },
      "source": [
        "!less reads_bwa.sam"
      ],
      "execution_count": 0,
      "outputs": []
    },
    {
      "cell_type": "markdown",
      "metadata": {
        "id": "r4r1UeAvXK9g",
        "colab_type": "text"
      },
      "source": [
        "Bowtie2 index and read alignment"
      ]
    },
    {
      "cell_type": "code",
      "metadata": {
        "id": "kECC25fsPhV5",
        "colab_type": "code",
        "colab": {}
      },
      "source": [
        "!bowtie2-build -f BWA_Tutorial/HIV_ref.fasta HIV_ref_bowtie2"
      ],
      "execution_count": 0,
      "outputs": []
    },
    {
      "cell_type": "code",
      "metadata": {
        "id": "CyZPP3-XRxO4",
        "colab_type": "code",
        "colab": {}
      },
      "source": [
        "!bowtie2 -x HIV_ref_bowtie2 -f BWA_Tutorial/reads.fasta -S reads_bowtie2.sam"
      ],
      "execution_count": 0,
      "outputs": []
    },
    {
      "cell_type": "code",
      "metadata": {
        "id": "TL6YbB7BPhX9",
        "colab_type": "code",
        "colab": {}
      },
      "source": [
        "!less reads_bowtie2.sam"
      ],
      "execution_count": 0,
      "outputs": []
    },
    {
      "cell_type": "code",
      "metadata": {
        "id": "ohCZckdEPhRK",
        "colab_type": "code",
        "outputId": "f188406c-1daa-431b-ac34-92e8b7deab76",
        "colab": {
          "base_uri": "https://localhost:8080/",
          "height": 164
        }
      },
      "source": [
        "version"
      ],
      "execution_count": 0,
      "outputs": [
        {
          "output_type": "error",
          "ename": "NameError",
          "evalue": "ignored",
          "traceback": [
            "\u001b[0;31m---------------------------------------------------------------------------\u001b[0m",
            "\u001b[0;31mNameError\u001b[0m                                 Traceback (most recent call last)",
            "\u001b[0;32m<ipython-input-39-605b5d1778ad>\u001b[0m in \u001b[0;36m<module>\u001b[0;34m()\u001b[0m\n\u001b[0;32m----> 1\u001b[0;31m \u001b[0mversion\u001b[0m\u001b[0;34m\u001b[0m\u001b[0;34m\u001b[0m\u001b[0m\n\u001b[0m",
            "\u001b[0;31mNameError\u001b[0m: name 'version' is not defined"
          ]
        }
      ]
    }
  ]
}